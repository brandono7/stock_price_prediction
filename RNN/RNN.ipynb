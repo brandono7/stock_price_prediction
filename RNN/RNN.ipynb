{
 "cells": [
  {
   "cell_type": "markdown",
   "id": "9b9065c1",
   "metadata": {},
   "source": [
    "# RNN Models"
   ]
  },
  {
   "cell_type": "markdown",
   "id": "e7c963f0",
   "metadata": {},
   "source": [
    "## Import Libraries"
   ]
  },
  {
   "cell_type": "code",
   "execution_count": 40,
   "id": "fd2ed7cb",
   "metadata": {},
   "outputs": [],
   "source": [
    "import pandas as pd\n",
    "import numpy as np\n",
    "import tensorflow as tf\n",
    "\n",
    "import matplotlib.pyplot as plt\n",
    "import keras_tuner as kt\n",
    "\n",
    "from tensorflow.keras.models import Sequential\n",
    "from tensorflow.keras.layers import Dense, SimpleRNN\n",
    "from tensorflow.keras.layers import Embedding, Flatten, Dropout, LayerNormalization\n",
    "from tensorflow.keras.optimizers import Adam\n",
    "\n",
    "from sklearn.model_selection import GroupShuffleSplit\n",
    "from sklearn.preprocessing import StandardScaler, MinMaxScaler\n",
    "from sklearn.metrics import (accuracy_score, f1_score, \n",
    "                            confusion_matrix, roc_auc_score,\n",
    "                            RocCurveDisplay)\n"
   ]
  },
  {
   "cell_type": "markdown",
   "id": "16fe4a1d",
   "metadata": {},
   "source": [
    "## Model Variables"
   ]
  },
  {
   "cell_type": "code",
   "execution_count": 41,
   "id": "998bfb81",
   "metadata": {},
   "outputs": [],
   "source": [
    "features = ['Open', 'High', 'Low', 'Volume']\n",
    "target   = 'target'\n",
    "rolling_window = 10 "
   ]
  },
  {
   "cell_type": "markdown",
   "id": "069754c8",
   "metadata": {},
   "source": [
    "## Data Pre-Processing"
   ]
  },
  {
   "cell_type": "code",
   "execution_count": 42,
   "id": "60ae9f8f",
   "metadata": {},
   "outputs": [],
   "source": [
    "df = pd.read_csv(\"../filtered_stocks_combined.csv\")\n",
    "df['Date'] = pd.to_datetime(df['Date'])\n",
    "df = df.sort_values(['Date', 'ticker']).reset_index(drop=True)\n",
    "\n",
    "df['prev_close'] = df.groupby('ticker')['Close'].shift(1)\n",
    "df['target']     = (df['Close'] > df['prev_close']).astype(int)\n",
    "df = df.dropna(subset=['prev_close']).reset_index(drop=True)"
   ]
  },
  {
   "cell_type": "markdown",
   "id": "8f808313",
   "metadata": {},
   "source": [
    "## Dataset Split"
   ]
  },
  {
   "cell_type": "code",
   "execution_count": 43,
   "id": "18cf5006",
   "metadata": {},
   "outputs": [],
   "source": [
    "# 2. Static 60/20/20 split\n",
    "n_total  = len(df)\n",
    "n_train  = int(0.6 * n_total)\n",
    "n_val    = int(0.2 * n_total)\n",
    "\n",
    "train_df = df.iloc[:n_train]\n",
    "val_df   = df.iloc[n_train:n_train+n_val]\n",
    "test_df  = df.iloc[n_train+n_val:].reset_index(drop=True)"
   ]
  },
  {
   "cell_type": "markdown",
   "id": "62daa2ff",
   "metadata": {},
   "source": [
    "## Feature Extraction & Scaling"
   ]
  },
  {
   "cell_type": "code",
   "execution_count": 44,
   "id": "35a24159",
   "metadata": {},
   "outputs": [],
   "source": [
    "scaler       = StandardScaler().fit(train_df[features])\n",
    "X_train_s    = scaler.transform(train_df[features])\n",
    "X_val_s      = scaler.transform(val_df[features])\n",
    "y_train_arr  = train_df['target'].values\n",
    "y_val_arr    = val_df['target'].values"
   ]
  },
  {
   "cell_type": "markdown",
   "id": "d01e51aa",
   "metadata": {},
   "source": [
    "## Create RNN Sequences"
   ]
  },
  {
   "cell_type": "code",
   "execution_count": 45,
   "id": "5ac630ae",
   "metadata": {},
   "outputs": [
    {
     "name": "stdout",
     "output_type": "stream",
     "text": [
      "Train seq: (45260, 10, 4) (45260,)\n",
      "Val   seq: (15080, 10, 4) (15080,)\n"
     ]
    }
   ],
   "source": [
    "def create_sequences(X, y, window):\n",
    "    Xs, ys = [], []\n",
    "    for i in range(len(X) - window):\n",
    "        Xs.append(X[i:i+window])\n",
    "        ys.append(y[i+window])\n",
    "    return np.array(Xs), np.array(ys)\n",
    "\n",
    "X_train_seq, y_train_seq = create_sequences(X_train_s, y_train_arr, rolling_window)\n",
    "X_val_seq,   y_val_seq   = create_sequences(X_val_s,   y_val_arr,   rolling_window)\n",
    "\n",
    "print(\"Train seq:\", X_train_seq.shape, y_train_seq.shape)\n",
    "print(\"Val   seq:\", X_val_seq.shape,   y_val_seq.shape)"
   ]
  },
  {
   "cell_type": "markdown",
   "id": "d4ad187b",
   "metadata": {},
   "source": [
    "## Base RNN Model\n",
    "With untuned test parameters to check if model is working."
   ]
  },
  {
   "cell_type": "code",
   "execution_count": 46,
   "id": "a0646ac5",
   "metadata": {},
   "outputs": [
    {
     "name": "stdout",
     "output_type": "stream",
     "text": [
      "Epoch 1/10\n"
     ]
    },
    {
     "name": "stderr",
     "output_type": "stream",
     "text": [
      "c:\\Users\\djleong01\\AppData\\Local\\Programs\\Python\\Python312\\Lib\\site-packages\\keras\\src\\layers\\rnn\\rnn.py:204: UserWarning: Do not pass an `input_shape`/`input_dim` argument to a layer. When using Sequential models, prefer using an `Input(shape)` object as the first layer in the model instead.\n",
      "  super().__init__(**kwargs)\n"
     ]
    },
    {
     "name": "stdout",
     "output_type": "stream",
     "text": [
      "\u001b[1m1415/1415\u001b[0m \u001b[32m━━━━━━━━━━━━━━━━━━━━\u001b[0m\u001b[37m\u001b[0m \u001b[1m4s\u001b[0m 2ms/step - accuracy: 0.5031 - loss: 0.7068 - val_accuracy: 0.5124 - val_loss: 0.6935\n",
      "Epoch 2/10\n",
      "\u001b[1m1415/1415\u001b[0m \u001b[32m━━━━━━━━━━━━━━━━━━━━\u001b[0m\u001b[37m\u001b[0m \u001b[1m2s\u001b[0m 2ms/step - accuracy: 0.5147 - loss: 0.6946 - val_accuracy: 0.5077 - val_loss: 0.6933\n",
      "Epoch 3/10\n",
      "\u001b[1m1415/1415\u001b[0m \u001b[32m━━━━━━━━━━━━━━━━━━━━\u001b[0m\u001b[37m\u001b[0m \u001b[1m2s\u001b[0m 2ms/step - accuracy: 0.5077 - loss: 0.6941 - val_accuracy: 0.5132 - val_loss: 0.6936\n",
      "Epoch 4/10\n",
      "\u001b[1m1415/1415\u001b[0m \u001b[32m━━━━━━━━━━━━━━━━━━━━\u001b[0m\u001b[37m\u001b[0m \u001b[1m2s\u001b[0m 2ms/step - accuracy: 0.5119 - loss: 0.6935 - val_accuracy: 0.5143 - val_loss: 0.6928\n",
      "Epoch 5/10\n",
      "\u001b[1m1415/1415\u001b[0m \u001b[32m━━━━━━━━━━━━━━━━━━━━\u001b[0m\u001b[37m\u001b[0m \u001b[1m2s\u001b[0m 2ms/step - accuracy: 0.5147 - loss: 0.6930 - val_accuracy: 0.5137 - val_loss: 0.6932\n",
      "Epoch 6/10\n",
      "\u001b[1m1415/1415\u001b[0m \u001b[32m━━━━━━━━━━━━━━━━━━━━\u001b[0m\u001b[37m\u001b[0m \u001b[1m2s\u001b[0m 2ms/step - accuracy: 0.5082 - loss: 0.6932 - val_accuracy: 0.5129 - val_loss: 0.6926\n",
      "Epoch 7/10\n",
      "\u001b[1m1415/1415\u001b[0m \u001b[32m━━━━━━━━━━━━━━━━━━━━\u001b[0m\u001b[37m\u001b[0m \u001b[1m2s\u001b[0m 1ms/step - accuracy: 0.5164 - loss: 0.6926 - val_accuracy: 0.5144 - val_loss: 0.6931\n",
      "Epoch 8/10\n",
      "\u001b[1m1415/1415\u001b[0m \u001b[32m━━━━━━━━━━━━━━━━━━━━\u001b[0m\u001b[37m\u001b[0m \u001b[1m2s\u001b[0m 2ms/step - accuracy: 0.5163 - loss: 0.6927 - val_accuracy: 0.5154 - val_loss: 0.6931\n",
      "Epoch 9/10\n",
      "\u001b[1m1415/1415\u001b[0m \u001b[32m━━━━━━━━━━━━━━━━━━━━\u001b[0m\u001b[37m\u001b[0m \u001b[1m2s\u001b[0m 2ms/step - accuracy: 0.5200 - loss: 0.6924 - val_accuracy: 0.5127 - val_loss: 0.6928\n",
      "Epoch 10/10\n",
      "\u001b[1m1415/1415\u001b[0m \u001b[32m━━━━━━━━━━━━━━━━━━━━\u001b[0m\u001b[37m\u001b[0m \u001b[1m2s\u001b[0m 2ms/step - accuracy: 0.5156 - loss: 0.6926 - val_accuracy: 0.5196 - val_loss: 0.6920\n"
     ]
    }
   ],
   "source": [
    "n_features = X_train_seq.shape[2]\n",
    "model = Sequential([\n",
    "    SimpleRNN(64, input_shape=(rolling_window, n_features)),\n",
    "    Dropout(0.2),\n",
    "    Dense(1, activation='sigmoid'),\n",
    "])\n",
    "model.compile(\n",
    "    loss='binary_crossentropy',\n",
    "    optimizer=Adam(1e-3),\n",
    "    metrics=['accuracy'],\n",
    ")\n",
    "history = model.fit(\n",
    "    X_train_seq, y_train_seq,\n",
    "    validation_data=(X_val_seq, y_val_seq),\n",
    "    epochs=10,\n",
    "    batch_size=32,\n",
    "    verbose=1\n",
    ")"
   ]
  },
  {
   "cell_type": "markdown",
   "id": "45b5c52c",
   "metadata": {},
   "source": [
    "### Running RNN on test data\n",
    "RNN Model is run on rolling window test set from each year."
   ]
  },
  {
   "cell_type": "code",
   "execution_count": 47,
   "id": "962d78e3",
   "metadata": {},
   "outputs": [
    {
     "name": "stdout",
     "output_type": "stream",
     "text": [
      "\u001b[1m78/78\u001b[0m \u001b[32m━━━━━━━━━━━━━━━━━━━━\u001b[0m\u001b[37m\u001b[0m \u001b[1m0s\u001b[0m 2ms/step\n",
      "\u001b[1m394/394\u001b[0m \u001b[32m━━━━━━━━━━━━━━━━━━━━\u001b[0m\u001b[37m\u001b[0m \u001b[1m0s\u001b[0m 838us/step\n"
     ]
    }
   ],
   "source": [
    "test_df['Year']     = test_df['Date'].dt.year\n",
    "unique_years       = sorted(test_df['Year'].unique())\n",
    "all_y_true, all_y_pred, all_y_proba = [], [], []\n",
    "all_test_dates = []\n",
    "\n",
    "for year in unique_years:\n",
    "    year_test = test_df[test_df['Year']==year].reset_index(drop=True)\n",
    "    Xt_s, yt_arr = (\n",
    "        scaler.transform(year_test[features]),\n",
    "        year_test['target'].values\n",
    "    )\n",
    "    Xt_seq, yt_seq = create_sequences(Xt_s, yt_arr, rolling_window)\n",
    "    if Xt_seq.size == 0:\n",
    "        continue\n",
    "\n",
    "    proba = model.predict(Xt_seq).ravel()\n",
    "    pred  = (proba > 0.5).astype(int)\n",
    "\n",
    "    all_y_true.extend(yt_seq.tolist())\n",
    "    all_y_pred.extend(pred.tolist())\n",
    "    all_y_proba.extend(proba.tolist())\n",
    "    all_test_dates.extend(year_test['Date'].iloc[rolling_window:].tolist())"
   ]
  },
  {
   "cell_type": "markdown",
   "id": "a507af9d",
   "metadata": {},
   "source": [
    "### Evaluation"
   ]
  },
  {
   "cell_type": "code",
   "execution_count": 48,
   "id": "0efa1496",
   "metadata": {},
   "outputs": [
    {
     "name": "stdout",
     "output_type": "stream",
     "text": [
      "\n",
      "Rolling‑Window RNN Results:\n",
      "Accuracy: 0.5206\n",
      "F1 Score:  0.6421\n",
      "AUC‑ROC:   0.5136\n",
      "\n",
      "Confusion Matrix:\n",
      "             Predicted Down  Predicted Up\n",
      "Actual Down            1366          5912\n",
      "Actual Up              1312          6480\n"
     ]
    },
    {
     "data": {
      "image/png": "[encoded data removed]",
      "text/plain": [
       "<Figure size 640x480 with 1 Axes>"
      ]
     },
     "metadata": {},
     "output_type": "display_data"
    }
   ],
   "source": [
    "accuracy = accuracy_score(all_y_true, all_y_pred)\n",
    "f1       = f1_score(all_y_true, all_y_pred)\n",
    "auc      = roc_auc_score(all_y_true, all_y_proba)\n",
    "cm       = confusion_matrix(all_y_true, all_y_pred)\n",
    "\n",
    "print(\"\\nRolling‑Window RNN Results:\")\n",
    "print(f\"Accuracy: {accuracy:.4f}\")\n",
    "print(f\"F1 Score:  {f1:.4f}\")\n",
    "print(f\"AUC‑ROC:   {auc:.4f}\\n\")\n",
    "\n",
    "print(\"Confusion Matrix:\")\n",
    "print(pd.DataFrame(\n",
    "    cm,\n",
    "    index=['Actual Down','Actual Up'],\n",
    "    columns=['Predicted Down','Predicted Up']\n",
    "))\n",
    "\n",
    "RocCurveDisplay.from_predictions(all_y_true, all_y_proba)\n",
    "plt.title('Rolling‑Window ROC Curve for RNN')\n",
    "plt.show()"
   ]
  },
  {
   "cell_type": "markdown",
   "id": "7795bc73",
   "metadata": {},
   "source": [
    "## Best RNN Model\n",
    "Single layer basic RNN, with optimal parameters determined by a random search autotuner."
   ]
  },
  {
   "cell_type": "code",
   "execution_count": 49,
   "id": "db9105cb",
   "metadata": {},
   "outputs": [
    {
     "name": "stdout",
     "output_type": "stream",
     "text": [
      "Reloading Tuner from rnn_backtest_tuner\\rb_tuner\\tuner0.json\n"
     ]
    }
   ],
   "source": [
    "def build_rnn_model(hp):\n",
    "    model = Sequential([\n",
    "        SimpleRNN(\n",
    "            units=hp.Int('units', min_value=32, max_value=256, step=32),\n",
    "            input_shape=(rolling_window, len(features))\n",
    "        ),\n",
    "        Dropout(hp.Float('dropout', 0.0, 0.5, step=0.1)),\n",
    "        Dense(1, activation='sigmoid')\n",
    "    ])\n",
    "    model.compile(\n",
    "        optimizer=Adam(hp.Choice('lr', [1e-2, 1e-3, 1e-4])),\n",
    "        loss='binary_crossentropy',\n",
    "        metrics=['accuracy']\n",
    "    )\n",
    "    return model\n",
    "\n",
    "class BacktestTuner(kt.RandomSearch):\n",
    "    def run_trial(self, trial, *args, **kwargs):\n",
    "        hp = trial.hyperparameters\n",
    "        model = build_rnn_model(hp)\n",
    "        year_accs = []\n",
    "\n",
    "        for idx, year in enumerate(unique_years):\n",
    "            year_test = test_df[test_df['Year']==year]\n",
    "            if idx == 0:\n",
    "                year_train = train_df\n",
    "            else:\n",
    "                cutoff = year_test['Date'].min()\n",
    "                up_to = df[df['Date'] < cutoff]\n",
    "                size = int(0.6 * len(up_to))\n",
    "                year_train = up_to.iloc[:size]\n",
    "\n",
    "            scaler = StandardScaler().fit(year_train[features])\n",
    "            X_tr_s = scaler.transform(year_train[features])\n",
    "            y_tr   = year_train['target'].values\n",
    "            X_te_s = scaler.transform(year_test[features])\n",
    "            y_te   = year_test['target'].values\n",
    "\n",
    "            X_tr_seq, y_tr_seq = create_sequences(X_tr_s, y_tr, rolling_window)\n",
    "            X_te_seq, y_te_seq = create_sequences(X_te_s, y_te, rolling_window)\n",
    "            if X_tr_seq.size == 0 or X_te_seq.size == 0:\n",
    "                continue\n",
    "\n",
    "            model.fit(\n",
    "                X_tr_seq, y_tr_seq,\n",
    "                epochs=5, batch_size=32,\n",
    "                verbose=1\n",
    "            )\n",
    "\n",
    "            y_pred = (model.predict(X_te_seq).ravel() > 0.5).astype(int)\n",
    "            year_accs.append(accuracy_score(y_te_seq, y_pred))\n",
    "\n",
    "        mean_acc = np.mean(year_accs) if year_accs else 0.0\n",
    "        self.oracle.update_trial(trial.trial_id, {'val_accuracy': mean_acc})\n",
    "\n",
    "tuner = BacktestTuner(\n",
    "    hypermodel=build_rnn_model,\n",
    "    objective=kt.Objective('val_accuracy', 'max'),\n",
    "    max_trials=10,\n",
    "    directory='rnn_backtest_tuner',\n",
    "    project_name='rb_tuner'\n",
    ")\n",
    "\n",
    "tuner.search() "
   ]
  },
  {
   "cell_type": "markdown",
   "id": "ba09b9a2",
   "metadata": {},
   "source": [
    "### Evaluation"
   ]
  },
  {
   "cell_type": "code",
   "execution_count": 50,
   "id": "1de21910",
   "metadata": {},
   "outputs": [
    {
     "name": "stdout",
     "output_type": "stream",
     "text": [
      "Epoch 1/10\n"
     ]
    },
    {
     "name": "stderr",
     "output_type": "stream",
     "text": [
      "c:\\Users\\djleong01\\AppData\\Local\\Programs\\Python\\Python312\\Lib\\site-packages\\keras\\src\\layers\\rnn\\rnn.py:204: UserWarning: Do not pass an `input_shape`/`input_dim` argument to a layer. When using Sequential models, prefer using an `Input(shape)` object as the first layer in the model instead.\n",
      "  super().__init__(**kwargs)\n"
     ]
    },
    {
     "name": "stdout",
     "output_type": "stream",
     "text": [
      "\u001b[1m1886/1886\u001b[0m \u001b[32m━━━━━━━━━━━━━━━━━━━━\u001b[0m\u001b[37m\u001b[0m \u001b[1m3s\u001b[0m 1ms/step - accuracy: 0.4962 - loss: 0.7119\n",
      "Epoch 2/10\n",
      "\u001b[1m1886/1886\u001b[0m \u001b[32m━━━━━━━━━━━━━━━━━━━━\u001b[0m\u001b[37m\u001b[0m \u001b[1m2s\u001b[0m 1ms/step - accuracy: 0.5060 - loss: 0.7059\n",
      "Epoch 3/10\n",
      "\u001b[1m1886/1886\u001b[0m \u001b[32m━━━━━━━━━━━━━━━━━━━━\u001b[0m\u001b[37m\u001b[0m \u001b[1m3s\u001b[0m 1ms/step - accuracy: 0.5044 - loss: 0.7054\n",
      "Epoch 4/10\n",
      "\u001b[1m1886/1886\u001b[0m \u001b[32m━━━━━━━━━━━━━━━━━━━━\u001b[0m\u001b[37m\u001b[0m \u001b[1m2s\u001b[0m 1ms/step - accuracy: 0.5005 - loss: 0.7067\n",
      "Epoch 5/10\n",
      "\u001b[1m1886/1886\u001b[0m \u001b[32m━━━━━━━━━━━━━━━━━━━━\u001b[0m\u001b[37m\u001b[0m \u001b[1m2s\u001b[0m 1ms/step - accuracy: 0.4957 - loss: 0.7067\n",
      "Epoch 6/10\n",
      "\u001b[1m1886/1886\u001b[0m \u001b[32m━━━━━━━━━━━━━━━━━━━━\u001b[0m\u001b[37m\u001b[0m \u001b[1m2s\u001b[0m 1ms/step - accuracy: 0.5051 - loss: 0.7072\n",
      "Epoch 7/10\n",
      "\u001b[1m1886/1886\u001b[0m \u001b[32m━━━━━━━━━━━━━━━━━━━━\u001b[0m\u001b[37m\u001b[0m \u001b[1m2s\u001b[0m 1ms/step - accuracy: 0.5039 - loss: 0.7061\n",
      "Epoch 8/10\n",
      "\u001b[1m1886/1886\u001b[0m \u001b[32m━━━━━━━━━━━━━━━━━━━━\u001b[0m\u001b[37m\u001b[0m \u001b[1m2s\u001b[0m 1ms/step - accuracy: 0.5030 - loss: 0.7069\n",
      "Epoch 9/10\n",
      "\u001b[1m1886/1886\u001b[0m \u001b[32m━━━━━━━━━━━━━━━━━━━━\u001b[0m\u001b[37m\u001b[0m \u001b[1m2s\u001b[0m 1ms/step - accuracy: 0.5053 - loss: 0.7068\n",
      "Epoch 10/10\n",
      "\u001b[1m1886/1886\u001b[0m \u001b[32m━━━━━━━━━━━━━━━━━━━━\u001b[0m\u001b[37m\u001b[0m \u001b[1m2s\u001b[0m 1ms/step - accuracy: 0.5078 - loss: 0.7031\n",
      "\u001b[1m394/394\u001b[0m \u001b[32m━━━━━━━━━━━━━━━━━━━━\u001b[0m\u001b[37m\u001b[0m \u001b[1m0s\u001b[0m 1ms/step  \n"
     ]
    }
   ],
   "source": [
    "best_hp = tuner.get_best_hyperparameters(num_trials=1)[0]\n",
    "best_model = build_rnn_model(best_hp)\n",
    "\n",
    "X_combined_seq = np.concatenate([X_train_seq, X_val_seq], axis=0)\n",
    "y_combined_seq = np.concatenate([y_train_seq, y_val_seq], axis=0)\n",
    "\n",
    "best_model.fit(\n",
    "    X_combined_seq, y_combined_seq,\n",
    "    epochs=10,            \n",
    "    batch_size=32,\n",
    "    verbose=1\n",
    ")\n",
    "\n",
    "y_proba_test = best_model.predict(Xt_seq).ravel()\n",
    "y_pred_test  = (y_proba_test > 0.5).astype(int)"
   ]
  },
  {
   "cell_type": "code",
   "execution_count": 51,
   "id": "7ab77676",
   "metadata": {},
   "outputs": [
    {
     "name": "stdout",
     "output_type": "stream",
     "text": [
      "{'units': 64, 'dropout': 0.2, 'lr': 0.01}\n"
     ]
    }
   ],
   "source": [
    "print(best_hp.values)"
   ]
  },
  {
   "cell_type": "code",
   "execution_count": 52,
   "id": "7776c54a",
   "metadata": {},
   "outputs": [
    {
     "name": "stdout",
     "output_type": "stream",
     "text": [
      "\n",
      "Rolling‑Window RNN Results:\n",
      "Accuracy: 0.4987\n",
      "F1 Score:  0.5015\n",
      "AUC‑ROC:   0.4999\n",
      "\n",
      "Confusion Matrix:\n",
      "             Predicted Down  Predicted Up\n",
      "Actual Down            3104          2907\n",
      "Actual Up              3404          3175\n"
     ]
    },
    {
     "data": {
      "image/png": "[encoded data removed]",
      "text/plain": [
       "<Figure size 640x480 with 1 Axes>"
      ]
     },
     "metadata": {},
     "output_type": "display_data"
    }
   ],
   "source": [
    "accuracy = accuracy_score(yt_seq, y_pred_test)\n",
    "f1  = f1_score(yt_seq, y_pred_test)\n",
    "auc = roc_auc_score(yt_seq, y_proba_test)\n",
    "cm  = confusion_matrix(yt_seq, y_pred_test)\n",
    "print(\"\\nRolling‑Window RNN Results:\")\n",
    "print(f\"Accuracy: {accuracy:.4f}\")\n",
    "print(f\"F1 Score:  {f1:.4f}\")\n",
    "print(f\"AUC‑ROC:   {auc:.4f}\\n\")\n",
    "\n",
    "print(\"Confusion Matrix:\")\n",
    "print(pd.DataFrame(\n",
    "    cm,\n",
    "    index=['Actual Down','Actual Up'],\n",
    "    columns=['Predicted Down','Predicted Up']\n",
    "))\n",
    "\n",
    "RocCurveDisplay.from_predictions(all_y_true, all_y_proba)\n",
    "plt.title('Rolling‑Window ROC Curve for RNN')\n",
    "plt.show()"
   ]
  },
  {
   "cell_type": "markdown",
   "id": "ad452999",
   "metadata": {},
   "source": [
    "## Deeper RNN\n",
    "Experiment with stacking more RNN layers (varied from 2-4). More recurrent layers can potentially better learn the temporal dependencies between the input features."
   ]
  },
  {
   "cell_type": "code",
   "execution_count": 53,
   "id": "dd921242",
   "metadata": {},
   "outputs": [
    {
     "name": "stdout",
     "output_type": "stream",
     "text": [
      "Trial 10 Complete [00h 01m 34s]\n",
      "val_accuracy: 0.49975531015398805\n",
      "\n",
      "Best val_accuracy So Far: 0.519697692741295\n",
      "Total elapsed time: 00h 14m 14s\n"
     ]
    }
   ],
   "source": [
    "def build_deep_rnn(hp):\n",
    "    model = Sequential()\n",
    "    n_layers = hp.Int('n_layers', 2, 4)\n",
    "    for i in range(n_layers):\n",
    "        units = hp.Int(f'units_{i}', 32, 256, step=32)\n",
    "        return_seq = (i < n_layers-1)\n",
    "        if i == 0:\n",
    "            model.add(SimpleRNN(units,\n",
    "                                return_sequences=return_seq,\n",
    "                                input_shape=(rolling_window, len(features))))\n",
    "        else:\n",
    "            model.add(SimpleRNN(units, return_sequences=return_seq))\n",
    "        model.add(Dropout(hp.Float(f'dropout_{i}', 0.0, 0.5, step=0.1)))\n",
    "\n",
    "    model.add(Dense(1, activation='sigmoid'))\n",
    "    model.compile(\n",
    "        optimizer=Adam(hp.Choice('lr', [1e-2, 1e-3, 1e-4])),\n",
    "        loss='binary_crossentropy',\n",
    "        metrics=['accuracy']\n",
    "    )\n",
    "    return model\n",
    "\n",
    "class DeepBacktestTuner(kt.RandomSearch):\n",
    "    def run_trial(self, trial, *args, **kwargs):\n",
    "        hp = trial.hyperparameters\n",
    "        model = build_deep_rnn(hp)\n",
    "        year_accs = []\n",
    "\n",
    "        for idx, year in enumerate(unique_years):\n",
    "            if idx == 0:\n",
    "                year_train = train_df\n",
    "            else:\n",
    "                cutoff = test_df[test_df['Year']==year]['Date'].min()\n",
    "                up_to  = df[df['Date'] < cutoff]\n",
    "                size   = int(0.6 * len(up_to))\n",
    "                year_train = up_to.iloc[:size]\n",
    "\n",
    "            scaler = StandardScaler().fit(year_train[features])\n",
    "            X_tr_s = scaler.transform(year_train[features])\n",
    "            y_tr   = year_train['target'].values\n",
    "            year_test = test_df[test_df['Year']==year]\n",
    "            X_te_s = scaler.transform(year_test[features])\n",
    "            y_te   = year_test['target'].values\n",
    "\n",
    "            X_tr_seq, y_tr_seq = create_sequences(X_tr_s, y_tr, rolling_window)\n",
    "            X_te_seq, y_te_seq = create_sequences(X_te_s, y_te, rolling_window)\n",
    "            if len(X_tr_seq)==0 or len(X_te_seq)==0:\n",
    "                continue\n",
    "\n",
    "            model.fit(\n",
    "                X_tr_seq, y_tr_seq,\n",
    "                epochs=5, batch_size=32,\n",
    "                verbose=1\n",
    "            )\n",
    "\n",
    "            preds = (model.predict(X_te_seq).ravel() > 0.5).astype(int)\n",
    "            year_accs.append(accuracy_score(y_te_seq, preds))\n",
    "\n",
    "        mean_acc = np.mean(year_accs) if year_accs else 0.0\n",
    "        self.oracle.update_trial(trial.trial_id, {'val_accuracy': mean_acc})\n",
    "\n",
    "tuner = DeepBacktestTuner(\n",
    "    hypermodel=build_deep_rnn,\n",
    "    objective=kt.Objective('val_accuracy','max'),\n",
    "    max_trials=10,\n",
    "    directory='rnn_backtest_tuner',\n",
    "    project_name='deep_rnn_search'\n",
    ")\n",
    "tuner.search()\n"
   ]
  },
  {
   "cell_type": "markdown",
   "id": "ee13036e",
   "metadata": {},
   "source": [
    "### Evaluation\n",
    "Get best model from tuner & retrain that model."
   ]
  },
  {
   "cell_type": "code",
   "execution_count": 54,
   "id": "25db6bf4",
   "metadata": {},
   "outputs": [
    {
     "name": "stdout",
     "output_type": "stream",
     "text": [
      "Best config:\n",
      "  layers    = 3\n",
      "    units_0   = 64\n",
      "    dropout_0 = 0.0\n",
      "    units_1   = 224\n",
      "    dropout_1 = 0.2\n",
      "    units_2   = 192\n",
      "    dropout_2 = 0.2\n",
      "  learning_rate = 0.01\n",
      "Epoch 1/10\n"
     ]
    },
    {
     "name": "stderr",
     "output_type": "stream",
     "text": [
      "c:\\Users\\djleong01\\AppData\\Local\\Programs\\Python\\Python312\\Lib\\site-packages\\keras\\src\\layers\\rnn\\rnn.py:204: UserWarning: Do not pass an `input_shape`/`input_dim` argument to a layer. When using Sequential models, prefer using an `Input(shape)` object as the first layer in the model instead.\n",
      "  super().__init__(**kwargs)\n"
     ]
    },
    {
     "name": "stdout",
     "output_type": "stream",
     "text": [
      "\u001b[1m1886/1886\u001b[0m \u001b[32m━━━━━━━━━━━━━━━━━━━━\u001b[0m\u001b[37m\u001b[0m \u001b[1m17s\u001b[0m 8ms/step - accuracy: 0.5035 - loss: 0.7439\n",
      "Epoch 2/10\n",
      "\u001b[1m1886/1886\u001b[0m \u001b[32m━━━━━━━━━━━━━━━━━━━━\u001b[0m\u001b[37m\u001b[0m \u001b[1m15s\u001b[0m 8ms/step - accuracy: 0.5022 - loss: 0.7260\n",
      "Epoch 3/10\n",
      "\u001b[1m1886/1886\u001b[0m \u001b[32m━━━━━━━━━━━━━━━━━━━━\u001b[0m\u001b[37m\u001b[0m \u001b[1m15s\u001b[0m 8ms/step - accuracy: 0.5043 - loss: 0.7287\n",
      "Epoch 4/10\n",
      "\u001b[1m1886/1886\u001b[0m \u001b[32m━━━━━━━━━━━━━━━━━━━━\u001b[0m\u001b[37m\u001b[0m \u001b[1m15s\u001b[0m 8ms/step - accuracy: 0.5043 - loss: 0.7247\n",
      "Epoch 5/10\n",
      "\u001b[1m1886/1886\u001b[0m \u001b[32m━━━━━━━━━━━━━━━━━━━━\u001b[0m\u001b[37m\u001b[0m \u001b[1m14s\u001b[0m 8ms/step - accuracy: 0.5008 - loss: 0.7309\n",
      "Epoch 6/10\n",
      "\u001b[1m1886/1886\u001b[0m \u001b[32m━━━━━━━━━━━━━━━━━━━━\u001b[0m\u001b[37m\u001b[0m \u001b[1m15s\u001b[0m 8ms/step - accuracy: 0.5003 - loss: 0.7423\n",
      "Epoch 7/10\n",
      "\u001b[1m1886/1886\u001b[0m \u001b[32m━━━━━━━━━━━━━━━━━━━━\u001b[0m\u001b[37m\u001b[0m \u001b[1m15s\u001b[0m 8ms/step - accuracy: 0.4983 - loss: 0.7243\n",
      "Epoch 8/10\n",
      "\u001b[1m1886/1886\u001b[0m \u001b[32m━━━━━━━━━━━━━━━━━━━━\u001b[0m\u001b[37m\u001b[0m \u001b[1m15s\u001b[0m 8ms/step - accuracy: 0.5049 - loss: 0.7236\n",
      "Epoch 9/10\n",
      "\u001b[1m1886/1886\u001b[0m \u001b[32m━━━━━━━━━━━━━━━━━━━━\u001b[0m\u001b[37m\u001b[0m \u001b[1m15s\u001b[0m 8ms/step - accuracy: 0.4985 - loss: 0.7341\n",
      "Epoch 10/10\n",
      "\u001b[1m1886/1886\u001b[0m \u001b[32m━━━━━━━━━━━━━━━━━━━━\u001b[0m\u001b[37m\u001b[0m \u001b[1m15s\u001b[0m 8ms/step - accuracy: 0.5040 - loss: 0.7242\n",
      "\u001b[1m394/394\u001b[0m \u001b[32m━━━━━━━━━━━━━━━━━━━━\u001b[0m\u001b[37m\u001b[0m \u001b[1m2s\u001b[0m 4ms/step\n"
     ]
    }
   ],
   "source": [
    "best_hp    = tuner.get_best_hyperparameters(1)[0]\n",
    "print(\"Best config:\")\n",
    "print(f\"  layers    = {best_hp.get('n_layers')}\")\n",
    "for i in range(best_hp.get('n_layers')):\n",
    "    print(f\"    units_{i}   = {best_hp.get(f'units_{i}')}\")\n",
    "    print(f\"    dropout_{i} = {best_hp.get(f'dropout_{i}')}\")\n",
    "print(f\"  learning_rate = {best_hp.get('lr')}\")\n",
    "best_model = build_deep_rnn(best_hp)\n",
    "\n",
    "X_combined_seq = np.concatenate([X_train_seq, X_val_seq], axis=0)\n",
    "y_combined_seq = np.concatenate([y_train_seq, y_val_seq], axis=0)\n",
    "\n",
    "best_model.fit(\n",
    "    X_combined_seq, y_combined_seq,\n",
    "    epochs=10,              \n",
    "    batch_size=32,\n",
    "    verbose=1\n",
    ")\n",
    "\n",
    "y_proba_test = best_model.predict(Xt_seq).ravel()\n",
    "y_pred_test  = (y_proba_test > 0.5).astype(int)"
   ]
  },
  {
   "cell_type": "code",
   "execution_count": 55,
   "id": "2d0564cd",
   "metadata": {},
   "outputs": [
    {
     "name": "stdout",
     "output_type": "stream",
     "text": [
      "\n",
      "Rolling‑Window RNN Results:\n",
      "Accuracy: 0.4809\n",
      "F1 Score:  0.1982\n",
      "AUC‑ROC:   0.4973\n",
      "\n",
      "Confusion Matrix:\n",
      "             Predicted Down  Predicted Up\n",
      "Actual Down            5246           765\n",
      "Actual Up              5771           808\n"
     ]
    },
    {
     "data": {
      "image/png": "[encoded data removed]",
      "text/plain": [
       "<Figure size 640x480 with 1 Axes>"
      ]
     },
     "metadata": {},
     "output_type": "display_data"
    }
   ],
   "source": [
    "accuracy = accuracy_score(yt_seq, y_pred_test)\n",
    "f1  = f1_score(yt_seq, y_pred_test)\n",
    "auc = roc_auc_score(yt_seq, y_proba_test)\n",
    "cm  = confusion_matrix(yt_seq, y_pred_test)\n",
    "print(\"\\nRolling‑Window RNN Results:\")\n",
    "print(f\"Accuracy: {accuracy:.4f}\")\n",
    "print(f\"F1 Score:  {f1:.4f}\")\n",
    "print(f\"AUC‑ROC:   {auc:.4f}\\n\")\n",
    "\n",
    "print(\"Confusion Matrix:\")\n",
    "print(pd.DataFrame(\n",
    "    cm,\n",
    "    index=['Actual Down','Actual Up'],\n",
    "    columns=['Predicted Down','Predicted Up']\n",
    "))\n",
    "\n",
    "RocCurveDisplay.from_predictions(all_y_true, all_y_proba)\n",
    "plt.title('Rolling‑Window ROC Curve for Deeper RNN')\n",
    "plt.show()"
   ]
  },
  {
   "cell_type": "markdown",
   "id": "4bd6e45f",
   "metadata": {},
   "source": [
    "## RNN with more Dense Layers\n",
    "Attempt to add more dense layers to learn/represent more complex decision boundaries over teh vector space before we output the final classification."
   ]
  },
  {
   "cell_type": "code",
   "execution_count": 56,
   "id": "1df8e409",
   "metadata": {},
   "outputs": [
    {
     "name": "stdout",
     "output_type": "stream",
     "text": [
      "Trial 12 Complete [00h 00m 33s]\n",
      "val_accuracy: 0.49564074149991033\n",
      "\n",
      "Best val_accuracy So Far: 0.5167223410797099\n",
      "Total elapsed time: 00h 06m 22s\n"
     ]
    }
   ],
   "source": [
    "def build_rnn_with_dense(hp):\n",
    "    model = Sequential()\n",
    "    model.add(SimpleRNN(\n",
    "        units=hp.Int('rnn_units', 32, 256, step=32),\n",
    "        input_shape=(rolling_window, len(features))\n",
    "    ))\n",
    "    model.add(Dropout(hp.Float('dropout_rnn', 0.0, 0.5, step=0.1)))\n",
    "    n_dense = hp.Int('n_dense', 1, 3)\n",
    "    for i in range(n_dense):\n",
    "        model.add(Dense(\n",
    "            units=hp.Int(f'dense_units_{i}', 16, 128, step=16),\n",
    "            activation=hp.Choice(f'dense_act_{i}', ['relu','tanh'])\n",
    "        ))\n",
    "        model.add(Dropout(hp.Float(f'dropout_dense_{i}', 0.0, 0.5, step=0.1)))\n",
    "    model.add(Dense(1, activation='sigmoid'))\n",
    "    model.compile(\n",
    "        optimizer=Adam(hp.Choice('lr', [1e-2, 1e-3, 1e-4])),\n",
    "        loss='binary_crossentropy',\n",
    "        metrics=['accuracy']\n",
    "    )\n",
    "    return model\n",
    "\n",
    "class DenseBacktestTuner(kt.RandomSearch):\n",
    "    def run_trial(self, trial, *args, **kwargs):\n",
    "        hp = trial.hyperparameters\n",
    "        model = build_rnn_with_dense(hp)\n",
    "        accs = []\n",
    "\n",
    "        for idx, year in enumerate(unique_years):\n",
    "            if idx == 0:\n",
    "                year_train = train_df\n",
    "            else:\n",
    "                cutoff     = test_df[test_df['Year']==year]['Date'].min()\n",
    "                up_to      = df[df['Date'] < cutoff]\n",
    "                size       = int(0.6 * len(up_to))\n",
    "                year_train = up_to.iloc[:size]\n",
    "\n",
    "            scaler = StandardScaler().fit(year_train[features])\n",
    "            X_tr_s = scaler.transform(year_train[features])\n",
    "            y_tr   = year_train['target'].values\n",
    "            year_test = test_df[test_df['Year']==year]\n",
    "            X_te_s    = scaler.transform(year_test[features])\n",
    "            y_te      = year_test['target'].values\n",
    "\n",
    "            X_tr_seq, y_tr_seq = create_sequences(X_tr_s, y_tr, rolling_window)\n",
    "            X_te_seq, y_te_seq = create_sequences(X_te_s, y_te, rolling_window)\n",
    "            if len(X_tr_seq)==0 or len(X_te_seq)==0:\n",
    "                continue\n",
    "\n",
    "            model.fit(X_tr_seq, y_tr_seq, epochs=5, batch_size=32, verbose=1)\n",
    "            preds = (model.predict(X_te_seq).ravel() > 0.5).astype(int)\n",
    "            accs.append(accuracy_score(y_te_seq, preds))\n",
    "\n",
    "        mean_acc = np.mean(accs) if accs else 0.0\n",
    "        self.oracle.update_trial(trial.trial_id, {'val_accuracy': mean_acc})\n",
    "\n",
    "tuner = DenseBacktestTuner(\n",
    "    hypermodel=build_rnn_with_dense,\n",
    "    objective=kt.Objective('val_accuracy','max'),\n",
    "    max_trials=12,\n",
    "    directory='dense_backtest_tuner',\n",
    "    project_name='rnn_dense_search'\n",
    ")\n",
    "tuner.search()"
   ]
  },
  {
   "cell_type": "markdown",
   "id": "f1d69774",
   "metadata": {},
   "source": [
    "### Evaluation"
   ]
  },
  {
   "cell_type": "code",
   "execution_count": 57,
   "id": "f7288344",
   "metadata": {},
   "outputs": [
    {
     "name": "stdout",
     "output_type": "stream",
     "text": [
      "{'rnn_units': 160, 'dropout_rnn': 0.1, 'n_dense': 2, 'dense_units_0': 112, 'dense_act_0': 'tanh', 'dropout_dense_0': 0.4, 'lr': 0.01, 'dense_units_1': 48, 'dense_act_1': 'relu', 'dropout_dense_1': 0.1, 'dense_units_2': 80, 'dense_act_2': 'relu', 'dropout_dense_2': 0.2}\n",
      "Epoch 1/10\n"
     ]
    },
    {
     "name": "stderr",
     "output_type": "stream",
     "text": [
      "c:\\Users\\djleong01\\AppData\\Local\\Programs\\Python\\Python312\\Lib\\site-packages\\keras\\src\\layers\\rnn\\rnn.py:204: UserWarning: Do not pass an `input_shape`/`input_dim` argument to a layer. When using Sequential models, prefer using an `Input(shape)` object as the first layer in the model instead.\n",
      "  super().__init__(**kwargs)\n"
     ]
    },
    {
     "name": "stdout",
     "output_type": "stream",
     "text": [
      "\u001b[1m1886/1886\u001b[0m \u001b[32m━━━━━━━━━━━━━━━━━━━━\u001b[0m\u001b[37m\u001b[0m \u001b[1m7s\u001b[0m 3ms/step - accuracy: 0.5060 - loss: 0.7148\n",
      "Epoch 2/10\n",
      "\u001b[1m1886/1886\u001b[0m \u001b[32m━━━━━━━━━━━━━━━━━━━━\u001b[0m\u001b[37m\u001b[0m \u001b[1m5s\u001b[0m 3ms/step - accuracy: 0.5029 - loss: 0.6998\n",
      "Epoch 3/10\n",
      "\u001b[1m1886/1886\u001b[0m \u001b[32m━━━━━━━━━━━━━━━━━━━━\u001b[0m\u001b[37m\u001b[0m \u001b[1m5s\u001b[0m 3ms/step - accuracy: 0.5104 - loss: 0.7012\n",
      "Epoch 4/10\n",
      "\u001b[1m1886/1886\u001b[0m \u001b[32m━━━━━━━━━━━━━━━━━━━━\u001b[0m\u001b[37m\u001b[0m \u001b[1m5s\u001b[0m 3ms/step - accuracy: 0.5064 - loss: 0.6992\n",
      "Epoch 5/10\n",
      "\u001b[1m1886/1886\u001b[0m \u001b[32m━━━━━━━━━━━━━━━━━━━━\u001b[0m\u001b[37m\u001b[0m \u001b[1m5s\u001b[0m 3ms/step - accuracy: 0.5060 - loss: 0.6975\n",
      "Epoch 6/10\n",
      "\u001b[1m1886/1886\u001b[0m \u001b[32m━━━━━━━━━━━━━━━━━━━━\u001b[0m\u001b[37m\u001b[0m \u001b[1m5s\u001b[0m 3ms/step - accuracy: 0.5058 - loss: 0.6992\n",
      "Epoch 7/10\n",
      "\u001b[1m1886/1886\u001b[0m \u001b[32m━━━━━━━━━━━━━━━━━━━━\u001b[0m\u001b[37m\u001b[0m \u001b[1m5s\u001b[0m 3ms/step - accuracy: 0.5131 - loss: 0.6935\n",
      "Epoch 8/10\n",
      "\u001b[1m1886/1886\u001b[0m \u001b[32m━━━━━━━━━━━━━━━━━━━━\u001b[0m\u001b[37m\u001b[0m \u001b[1m5s\u001b[0m 3ms/step - accuracy: 0.5158 - loss: 0.6939\n",
      "Epoch 9/10\n",
      "\u001b[1m1886/1886\u001b[0m \u001b[32m━━━━━━━━━━━━━━━━━━━━\u001b[0m\u001b[37m\u001b[0m \u001b[1m6s\u001b[0m 3ms/step - accuracy: 0.5105 - loss: 0.7069\n",
      "Epoch 10/10\n",
      "\u001b[1m1886/1886\u001b[0m \u001b[32m━━━━━━━━━━━━━━━━━━━━\u001b[0m\u001b[37m\u001b[0m \u001b[1m6s\u001b[0m 3ms/step - accuracy: 0.5140 - loss: 0.6937\n",
      "\u001b[1m394/394\u001b[0m \u001b[32m━━━━━━━━━━━━━━━━━━━━\u001b[0m\u001b[37m\u001b[0m \u001b[1m1s\u001b[0m 1ms/step\n"
     ]
    }
   ],
   "source": [
    "best_hp    = tuner.get_best_hyperparameters(1)[0]\n",
    "print(best_hp.values)\n",
    "best_model = build_rnn_with_dense(best_hp)\n",
    "\n",
    "X_combined_seq = np.concatenate([X_train_seq, X_val_seq], axis=0)\n",
    "y_combined_seq = np.concatenate([y_train_seq, y_val_seq], axis=0)\n",
    "\n",
    "best_model.fit(\n",
    "    X_combined_seq, y_combined_seq,\n",
    "    epochs=10,              \n",
    "    batch_size=32,\n",
    "    verbose=1\n",
    ")\n",
    "\n",
    "y_proba_test = best_model.predict(Xt_seq).ravel()\n",
    "y_pred_test  = (y_proba_test > 0.5).astype(int)"
   ]
  },
  {
   "cell_type": "code",
   "execution_count": 58,
   "id": "68d58b3e",
   "metadata": {},
   "outputs": [
    {
     "name": "stdout",
     "output_type": "stream",
     "text": [
      "\n",
      "Rolling‑Window RNN Results:\n",
      "Accuracy: 0.5221\n",
      "F1 Score:  0.6856\n",
      "AUC‑ROC:   0.4985\n",
      "\n",
      "Confusion Matrix:\n",
      "             Predicted Down  Predicted Up\n",
      "Actual Down              11          6000\n",
      "Actual Up                17          6562\n"
     ]
    },
    {
     "data": {
      "image/png": "[encoded data removed]",
      "text/plain": [
       "<Figure size 640x480 with 1 Axes>"
      ]
     },
     "metadata": {},
     "output_type": "display_data"
    }
   ],
   "source": [
    "accuracy = accuracy_score(yt_seq, y_pred_test)\n",
    "f1  = f1_score(yt_seq, y_pred_test)\n",
    "auc = roc_auc_score(yt_seq, y_proba_test)\n",
    "cm  = confusion_matrix(yt_seq, y_pred_test)\n",
    "print(\"\\nRolling‑Window RNN Results:\")\n",
    "print(f\"Accuracy: {accuracy:.4f}\")\n",
    "print(f\"F1 Score:  {f1:.4f}\")\n",
    "print(f\"AUC‑ROC:   {auc:.4f}\\n\")\n",
    "\n",
    "print(\"Confusion Matrix:\")\n",
    "print(pd.DataFrame(\n",
    "    cm,\n",
    "    index=['Actual Down','Actual Up'],\n",
    "    columns=['Predicted Down','Predicted Up']\n",
    "))\n",
    "\n",
    "RocCurveDisplay.from_predictions(all_y_true, all_y_proba)\n",
    "plt.title('Rolling‑Window ROC Curve for more dense RNN')\n",
    "plt.show()"
   ]
  },
  {
   "cell_type": "markdown",
   "id": "1717d13b",
   "metadata": {},
   "source": [
    "## RNN with Normalization\n",
    "Normalizes all elements in hidden-state vectors across its features before activation function. Helps prevents neurons from drifting too far into the extremes of the activation function, helping to reduce vanishing/exploding gradient issues."
   ]
  },
  {
   "cell_type": "code",
   "execution_count": 59,
   "id": "80a33155",
   "metadata": {},
   "outputs": [
    {
     "name": "stdout",
     "output_type": "stream",
     "text": [
      "Trial 12 Complete [00h 01m 28s]\n",
      "val_accuracy: 0.5068066373722104\n",
      "\n",
      "Best val_accuracy So Far: 0.5167223410797099\n",
      "Total elapsed time: 00h 17m 31s\n"
     ]
    }
   ],
   "source": [
    "def build_rnn_with_norm(hp):\n",
    "    model = Sequential()\n",
    "    # -- single RNN layer --\n",
    "    model.add(SimpleRNN(\n",
    "        units=hp.Int('rnn_units', 32, 256, step=32),\n",
    "        input_shape=(rolling_window, len(features))\n",
    "    ))\n",
    "    model.add(Dropout(hp.Float('dropout_rnn', 0.0, 0.5, step=0.1)))\n",
    "    model.add(LayerNormalization())\n",
    "\n",
    "    # -- tunable dense layers on top --\n",
    "    n_dense = hp.Int('n_dense', 1, 3)\n",
    "    for i in range(n_dense):\n",
    "        model.add(Dense(\n",
    "            units=hp.Int(f'dense_units_{i}', 16, 128, step=16),\n",
    "            activation=hp.Choice(f'dense_act_{i}', ['relu','tanh'])\n",
    "        ))\n",
    "        model.add(Dropout(hp.Float(f'dropout_dense_{i}', 0.0, 0.5, step=0.1)))\n",
    "\n",
    "    # -- output layer --\n",
    "    model.add(Dense(1, activation='sigmoid'))\n",
    "\n",
    "    model.compile(\n",
    "        optimizer=Adam(hp.Choice('lr', [1e-2, 1e-3, 1e-4])),\n",
    "        loss='binary_crossentropy',\n",
    "        metrics=['accuracy']\n",
    "    )\n",
    "    return model\n",
    "\n",
    "# ── 2) Custom backtest tuner ──\n",
    "class NormBacktestTuner(kt.RandomSearch):\n",
    "    def run_trial(self, trial, *args, **kwargs):\n",
    "        hp = trial.hyperparameters\n",
    "        model = build_rnn_with_norm(hp)\n",
    "        year_accs = []\n",
    "\n",
    "        for idx, year in enumerate(unique_years):\n",
    "            # select train slice\n",
    "            if idx == 0:\n",
    "                year_train = train_df\n",
    "            else:\n",
    "                cutoff     = test_df[test_df['Year']==year]['Date'].min()\n",
    "                up_to      = df[df['Date'] < cutoff]\n",
    "                size       = int(0.6 * len(up_to))\n",
    "                year_train = up_to.iloc[:size]\n",
    "\n",
    "            # scale\n",
    "            scaler = StandardScaler().fit(year_train[features])\n",
    "            X_tr_s = scaler.transform(year_train[features])\n",
    "            y_tr   = year_train['target'].values\n",
    "\n",
    "            year_test = test_df[test_df['Year']==year]\n",
    "            X_te_s = scaler.transform(year_test[features])\n",
    "            y_te   = year_test['target'].values\n",
    "\n",
    "            # sequences\n",
    "            X_tr_seq, y_tr_seq = create_sequences(X_tr_s, y_tr, rolling_window)\n",
    "            X_te_seq, y_te_seq = create_sequences(X_te_s, y_te, rolling_window)\n",
    "            if len(X_tr_seq)==0 or len(X_te_seq)==0:\n",
    "                continue\n",
    "\n",
    "            # train quietly\n",
    "            model.fit(\n",
    "                X_tr_seq, y_tr_seq,\n",
    "                epochs=10, batch_size=32,\n",
    "                verbose=1\n",
    "            )\n",
    "\n",
    "            # evaluate this year\n",
    "            preds = (model.predict(X_te_seq).ravel() > 0.5).astype(int)\n",
    "            year_accs.append(accuracy_score(y_te_seq, preds))\n",
    "\n",
    "        mean_acc = np.mean(year_accs) if year_accs else 0.0\n",
    "        # report mean accuracy over years\n",
    "        self.oracle.update_trial(trial.trial_id, {'val_accuracy': mean_acc})\n",
    "\n",
    "# ── 3) Run the tuner ──\n",
    "tuner = NormBacktestTuner(\n",
    "    hypermodel=build_rnn_with_norm,\n",
    "    objective=kt.Objective('val_accuracy', 'max'),\n",
    "    max_trials=12,\n",
    "    directory='norm_backtest_tuner',\n",
    "    project_name='rnn_norm_search'\n",
    ")\n",
    "tuner.search()"
   ]
  },
  {
   "cell_type": "markdown",
   "id": "ee66636a",
   "metadata": {},
   "source": [
    "### Evaluation"
   ]
  },
  {
   "cell_type": "code",
   "execution_count": 60,
   "id": "b70e367b",
   "metadata": {},
   "outputs": [
    {
     "name": "stdout",
     "output_type": "stream",
     "text": [
      "{'rnn_units': 256, 'dropout_rnn': 0.1, 'n_dense': 2, 'dense_units_0': 112, 'dense_act_0': 'relu', 'dropout_dense_0': 0.1, 'lr': 0.01, 'dense_units_1': 48, 'dense_act_1': 'relu', 'dropout_dense_1': 0.4}\n",
      "Epoch 1/10\n"
     ]
    },
    {
     "name": "stderr",
     "output_type": "stream",
     "text": [
      "c:\\Users\\djleong01\\AppData\\Local\\Programs\\Python\\Python312\\Lib\\site-packages\\keras\\src\\layers\\rnn\\rnn.py:204: UserWarning: Do not pass an `input_shape`/`input_dim` argument to a layer. When using Sequential models, prefer using an `Input(shape)` object as the first layer in the model instead.\n",
      "  super().__init__(**kwargs)\n"
     ]
    },
    {
     "name": "stdout",
     "output_type": "stream",
     "text": [
      "\u001b[1m1886/1886\u001b[0m \u001b[32m━━━━━━━━━━━━━━━━━━━━\u001b[0m\u001b[37m\u001b[0m \u001b[1m10s\u001b[0m 4ms/step - accuracy: 0.5159 - loss: 0.7063\n",
      "Epoch 2/10\n",
      "\u001b[1m1886/1886\u001b[0m \u001b[32m━━━━━━━━━━━━━━━━━━━━\u001b[0m\u001b[37m\u001b[0m \u001b[1m8s\u001b[0m 4ms/step - accuracy: 0.5143 - loss: 0.6930\n",
      "Epoch 3/10\n",
      "\u001b[1m1886/1886\u001b[0m \u001b[32m━━━━━━━━━━━━━━━━━━━━\u001b[0m\u001b[37m\u001b[0m \u001b[1m8s\u001b[0m 4ms/step - accuracy: 0.5147 - loss: 0.6928\n",
      "Epoch 4/10\n",
      "\u001b[1m1886/1886\u001b[0m \u001b[32m━━━━━━━━━━━━━━━━━━━━\u001b[0m\u001b[37m\u001b[0m \u001b[1m8s\u001b[0m 4ms/step - accuracy: 0.5136 - loss: 0.6929\n",
      "Epoch 5/10\n",
      "\u001b[1m1886/1886\u001b[0m \u001b[32m━━━━━━━━━━━━━━━━━━━━\u001b[0m\u001b[37m\u001b[0m \u001b[1m8s\u001b[0m 4ms/step - accuracy: 0.5154 - loss: 0.6928\n",
      "Epoch 6/10\n",
      "\u001b[1m1886/1886\u001b[0m \u001b[32m━━━━━━━━━━━━━━━━━━━━\u001b[0m\u001b[37m\u001b[0m \u001b[1m8s\u001b[0m 4ms/step - accuracy: 0.5145 - loss: 0.6928\n",
      "Epoch 7/10\n",
      "\u001b[1m1886/1886\u001b[0m \u001b[32m━━━━━━━━━━━━━━━━━━━━\u001b[0m\u001b[37m\u001b[0m \u001b[1m8s\u001b[0m 4ms/step - accuracy: 0.5153 - loss: 0.6930\n",
      "Epoch 8/10\n",
      "\u001b[1m1886/1886\u001b[0m \u001b[32m━━━━━━━━━━━━━━━━━━━━\u001b[0m\u001b[37m\u001b[0m \u001b[1m8s\u001b[0m 4ms/step - accuracy: 0.5146 - loss: 0.6929\n",
      "Epoch 9/10\n",
      "\u001b[1m1886/1886\u001b[0m \u001b[32m━━━━━━━━━━━━━━━━━━━━\u001b[0m\u001b[37m\u001b[0m \u001b[1m8s\u001b[0m 4ms/step - accuracy: 0.5126 - loss: 0.6929\n",
      "Epoch 10/10\n",
      "\u001b[1m1886/1886\u001b[0m \u001b[32m━━━━━━━━━━━━━━━━━━━━\u001b[0m\u001b[37m\u001b[0m \u001b[1m8s\u001b[0m 4ms/step - accuracy: 0.5153 - loss: 0.6928\n",
      "\u001b[1m394/394\u001b[0m \u001b[32m━━━━━━━━━━━━━━━━━━━━\u001b[0m\u001b[37m\u001b[0m \u001b[1m1s\u001b[0m 2ms/step\n"
     ]
    }
   ],
   "source": [
    "best_hp    = tuner.get_best_hyperparameters(1)[0]\n",
    "print(best_hp.values)\n",
    "best_model = build_rnn_with_norm(best_hp)\n",
    "\n",
    "X_combined_seq = np.concatenate([X_train_seq, X_val_seq], axis=0)\n",
    "y_combined_seq = np.concatenate([y_train_seq, y_val_seq], axis=0)\n",
    "\n",
    "best_model.fit(\n",
    "    X_combined_seq, y_combined_seq,\n",
    "    epochs=10,              \n",
    "    batch_size=32,\n",
    "    verbose=1\n",
    ")\n",
    "\n",
    "y_proba_test = best_model.predict(Xt_seq).ravel()\n",
    "y_pred_test  = (y_proba_test > 0.5).astype(int)"
   ]
  },
  {
   "cell_type": "code",
   "execution_count": 61,
   "id": "e35a6c50",
   "metadata": {},
   "outputs": [
    {
     "name": "stdout",
     "output_type": "stream",
     "text": [
      "Accuracy: 0.5226\n",
      "F1 Score:  0.6864\n",
      "AUC‑ROC:   0.5000\n",
      "\n",
      "Confusion Matrix:\n",
      "             Predicted Down  Predicted Up\n",
      "Actual Down               0          6011\n",
      "Actual Up                 0          6579\n"
     ]
    },
    {
     "data": {
      "image/png": "[encoded data removed]",
      "text/plain": [
       "<Figure size 640x480 with 1 Axes>"
      ]
     },
     "metadata": {},
     "output_type": "display_data"
    }
   ],
   "source": [
    "accuracy = accuracy_score(yt_seq, y_pred_test)\n",
    "f1  = f1_score(yt_seq, y_pred_test)\n",
    "auc = roc_auc_score(yt_seq, y_proba_test)\n",
    "cm  = confusion_matrix(yt_seq, y_pred_test)\n",
    "print(f\"Accuracy: {accuracy:.4f}\")\n",
    "print(f\"F1 Score:  {f1:.4f}\")\n",
    "print(f\"AUC‑ROC:   {auc:.4f}\\n\")\n",
    "\n",
    "print(\"Confusion Matrix:\")\n",
    "print(pd.DataFrame(\n",
    "    cm,\n",
    "    index=['Actual Down','Actual Up'],\n",
    "    columns=['Predicted Down','Predicted Up']\n",
    "))\n",
    "\n",
    "RocCurveDisplay.from_predictions(all_y_true, all_y_proba)\n",
    "plt.title('ROC Curve for RNN with LayerNorm')\n",
    "plt.show()"
   ]
  },
  {
   "cell_type": "markdown",
   "id": "7af47f54",
   "metadata": {},
   "source": [
    "## RNN with gradient clipping\n",
    "Attempt to deal with exploding gradients during backpropagation (if any). Improves stability when training with larger learning rates."
   ]
  },
  {
   "cell_type": "code",
   "execution_count": 62,
   "id": "59324764",
   "metadata": {},
   "outputs": [
    {
     "name": "stdout",
     "output_type": "stream",
     "text": [
      "Trial 10 Complete [00h 00m 40s]\n",
      "val_accuracy: 0.5058352443055164\n",
      "\n",
      "Best val_accuracy So Far: 0.5163191152732584\n",
      "Total elapsed time: 00h 04m 17s\n"
     ]
    }
   ],
   "source": [
    "def build_clip_rnn(hp):\n",
    "    model = Sequential([\n",
    "        SimpleRNN(\n",
    "            units=hp.Int('units', 32, 256, step=32),\n",
    "            input_shape=(rolling_window, len(features))\n",
    "        ),\n",
    "        Dense(1, activation='sigmoid'),\n",
    "    ])\n",
    "    lr = hp.Choice('lr', [5e-1, 1e-1, 1e-2, 1e-3, 1e-4])\n",
    "    clipnorm = hp.Float('clipnorm', 0.0, 2.0, step=0.5)\n",
    "    if clipnorm > 0:\n",
    "        optimizer = Adam(learning_rate=lr, clipnorm=clipnorm)\n",
    "    else:\n",
    "        optimizer = Adam(learning_rate=lr)\n",
    "    model.compile(\n",
    "        optimizer=optimizer,\n",
    "        loss='binary_crossentropy',\n",
    "        metrics=['accuracy']\n",
    "    )\n",
    "    return model\n",
    "\n",
    "# ── 4) Custom backtest tuner (per‑year rolling backtest) ──\n",
    "class ClipBacktestTuner(kt.RandomSearch):\n",
    "    def run_trial(self, trial, *args, **kwargs):\n",
    "        hp    = trial.hyperparameters\n",
    "        model = build_clip_rnn(hp)\n",
    "        accs  = []\n",
    "\n",
    "        for idx, year in enumerate(unique_years):\n",
    "            # build year_train\n",
    "            if idx == 0:\n",
    "                year_train = train_df\n",
    "            else:\n",
    "                cutoff     = test_df[test_df['Year']==year]['Date'].min()\n",
    "                up_to      = df[df['Date'] < cutoff]\n",
    "                size       = int(0.6 * len(up_to))\n",
    "                year_train = up_to.iloc[:size]\n",
    "\n",
    "            # scale features\n",
    "            scaler = StandardScaler().fit(year_train[features])\n",
    "            X_tr_s = scaler.transform(year_train[features])\n",
    "            y_tr   = year_train['target'].values\n",
    "\n",
    "            year_test = test_df[test_df['Year']==year]\n",
    "            X_te_s    = scaler.transform(year_test[features])\n",
    "            y_te      = year_test['target'].values\n",
    "\n",
    "            # create sequences\n",
    "            X_tr_seq, y_tr_seq = create_sequences(X_tr_s, y_tr, rolling_window)\n",
    "            X_te_seq, y_te_seq = create_sequences(X_te_s, y_te, rolling_window)\n",
    "            if not len(X_tr_seq) or not len(X_te_seq):\n",
    "                continue\n",
    "\n",
    "            # train & evaluate quietly\n",
    "            model.fit(\n",
    "                X_tr_seq, y_tr_seq,\n",
    "                epochs=5, batch_size=32,\n",
    "                verbose=1\n",
    "            )\n",
    "            preds = (model.predict(X_te_seq).ravel() > 0.5).astype(int)\n",
    "            accs.append(accuracy_score(y_te_seq, preds))\n",
    "\n",
    "        mean_acc = np.mean(accs) if accs else 0.0\n",
    "        self.oracle.update_trial(trial.trial_id, {'val_accuracy': mean_acc})\n",
    "\n",
    "# ── 5) Run the tuner ──\n",
    "tuner = ClipBacktestTuner(\n",
    "    hypermodel=build_clip_rnn,\n",
    "    objective=kt.Objective('val_accuracy','max'),\n",
    "    max_trials=10,\n",
    "    directory='clip_rnn_tuner',\n",
    "    project_name='clip_backtest'\n",
    ")\n",
    "tuner.search()"
   ]
  },
  {
   "cell_type": "markdown",
   "id": "ed80f1aa",
   "metadata": {},
   "source": [
    "### Evaluation"
   ]
  },
  {
   "cell_type": "code",
   "execution_count": 63,
   "id": "2f18c93a",
   "metadata": {},
   "outputs": [
    {
     "name": "stdout",
     "output_type": "stream",
     "text": [
      "{'units': 96, 'lr': 0.1, 'clipnorm': 1.0}\n",
      "Epoch 1/10\n"
     ]
    },
    {
     "name": "stderr",
     "output_type": "stream",
     "text": [
      "c:\\Users\\djleong01\\AppData\\Local\\Programs\\Python\\Python312\\Lib\\site-packages\\keras\\src\\layers\\rnn\\rnn.py:204: UserWarning: Do not pass an `input_shape`/`input_dim` argument to a layer. When using Sequential models, prefer using an `Input(shape)` object as the first layer in the model instead.\n",
      "  super().__init__(**kwargs)\n"
     ]
    },
    {
     "name": "stdout",
     "output_type": "stream",
     "text": [
      "\u001b[1m1886/1886\u001b[0m \u001b[32m━━━━━━━━━━━━━━━━━━━━\u001b[0m\u001b[37m\u001b[0m \u001b[1m3s\u001b[0m 1ms/step - accuracy: 0.5053 - loss: 0.8839\n",
      "Epoch 2/10\n",
      "\u001b[1m1886/1886\u001b[0m \u001b[32m━━━━━━━━━━━━━━━━━━━━\u001b[0m\u001b[37m\u001b[0m \u001b[1m2s\u001b[0m 1ms/step - accuracy: 0.4991 - loss: 0.9432\n",
      "Epoch 3/10\n",
      "\u001b[1m1886/1886\u001b[0m \u001b[32m━━━━━━━━━━━━━━━━━━━━\u001b[0m\u001b[37m\u001b[0m \u001b[1m2s\u001b[0m 1ms/step - accuracy: 0.5019 - loss: 0.9176\n",
      "Epoch 4/10\n",
      "\u001b[1m1886/1886\u001b[0m \u001b[32m━━━━━━━━━━━━━━━━━━━━\u001b[0m\u001b[37m\u001b[0m \u001b[1m2s\u001b[0m 1ms/step - accuracy: 0.4957 - loss: 0.9088\n",
      "Epoch 5/10\n",
      "\u001b[1m1886/1886\u001b[0m \u001b[32m━━━━━━━━━━━━━━━━━━━━\u001b[0m\u001b[37m\u001b[0m \u001b[1m2s\u001b[0m 1ms/step - accuracy: 0.5033 - loss: 0.9053\n",
      "Epoch 6/10\n",
      "\u001b[1m1886/1886\u001b[0m \u001b[32m━━━━━━━━━━━━━━━━━━━━\u001b[0m\u001b[37m\u001b[0m \u001b[1m2s\u001b[0m 1ms/step - accuracy: 0.5047 - loss: 0.8928\n",
      "Epoch 7/10\n",
      "\u001b[1m1886/1886\u001b[0m \u001b[32m━━━━━━━━━━━━━━━━━━━━\u001b[0m\u001b[37m\u001b[0m \u001b[1m2s\u001b[0m 1ms/step - accuracy: 0.4953 - loss: 0.9701\n",
      "Epoch 8/10\n",
      "\u001b[1m1886/1886\u001b[0m \u001b[32m━━━━━━━━━━━━━━━━━━━━\u001b[0m\u001b[37m\u001b[0m \u001b[1m2s\u001b[0m 1ms/step - accuracy: 0.5013 - loss: 0.8569\n",
      "Epoch 9/10\n",
      "\u001b[1m1886/1886\u001b[0m \u001b[32m━━━━━━━━━━━━━━━━━━━━\u001b[0m\u001b[37m\u001b[0m \u001b[1m2s\u001b[0m 1ms/step - accuracy: 0.4993 - loss: 0.9113\n",
      "Epoch 10/10\n",
      "\u001b[1m1886/1886\u001b[0m \u001b[32m━━━━━━━━━━━━━━━━━━━━\u001b[0m\u001b[37m\u001b[0m \u001b[1m2s\u001b[0m 1ms/step - accuracy: 0.5058 - loss: 0.8841\n",
      "\u001b[1m394/394\u001b[0m \u001b[32m━━━━━━━━━━━━━━━━━━━━\u001b[0m\u001b[37m\u001b[0m \u001b[1m0s\u001b[0m 989us/step\n"
     ]
    }
   ],
   "source": [
    "best_hp    = tuner.get_best_hyperparameters(1)[0]\n",
    "print(best_hp.values)\n",
    "best_model = build_clip_rnn(best_hp)\n",
    "\n",
    "X_combined_seq = np.concatenate([X_train_seq, X_val_seq], axis=0)\n",
    "y_combined_seq = np.concatenate([y_train_seq, y_val_seq], axis=0)\n",
    "\n",
    "best_model.fit(\n",
    "    X_combined_seq, y_combined_seq,\n",
    "    epochs=10,              \n",
    "    batch_size=32,\n",
    "    verbose=1\n",
    ")\n",
    "\n",
    "y_proba_test = best_model.predict(Xt_seq).ravel()\n",
    "y_pred_test  = (y_proba_test > 0.5).astype(int)"
   ]
  },
  {
   "cell_type": "code",
   "execution_count": 64,
   "id": "63c0a8f9",
   "metadata": {},
   "outputs": [
    {
     "name": "stdout",
     "output_type": "stream",
     "text": [
      "Accuracy: 0.4781\n",
      "F1 Score:  0.0341\n",
      "AUC‑ROC:   0.5004\n",
      "\n",
      "Confusion Matrix:\n",
      "             Predicted Down  Predicted Up\n",
      "Actual Down            5903           108\n",
      "Actual Up              6463           116\n"
     ]
    },
    {
     "data": {
      "image/png": "[encoded data removed]",
      "text/plain": [
       "<Figure size 640x480 with 1 Axes>"
      ]
     },
     "metadata": {},
     "output_type": "display_data"
    }
   ],
   "source": [
    "accuracy = accuracy_score(yt_seq, y_pred_test)\n",
    "f1  = f1_score(yt_seq, y_pred_test)\n",
    "auc = roc_auc_score(yt_seq, y_proba_test)\n",
    "cm  = confusion_matrix(yt_seq, y_pred_test)\n",
    "print(f\"Accuracy: {accuracy:.4f}\")\n",
    "print(f\"F1 Score:  {f1:.4f}\")\n",
    "print(f\"AUC‑ROC:   {auc:.4f}\\n\")\n",
    "\n",
    "print(\"Confusion Matrix:\")\n",
    "print(pd.DataFrame(\n",
    "    cm,\n",
    "    index=['Actual Down','Actual Up'],\n",
    "    columns=['Predicted Down','Predicted Up']\n",
    "))\n",
    "\n",
    "RocCurveDisplay.from_predictions(all_y_true, all_y_proba)\n",
    "plt.title('ROC Curve for RNN with gradient clipping')\n",
    "plt.show()"
   ]
  }
 ],
 "metadata": {
  "kernelspec": {
   "display_name": "Python 3",
   "language": "python",
   "name": "python3"
  },
  "language_info": {
   "codemirror_mode": {
    "name": "ipython",
    "version": 3
   },
   "file_extension": ".py",
   "mimetype": "text/x-python",
   "name": "python",
   "nbconvert_exporter": "python",
   "pygments_lexer": "ipython3",
   "version": "3.12.2"
  }
 },
 "nbformat": 4,
 "nbformat_minor": 5
}
