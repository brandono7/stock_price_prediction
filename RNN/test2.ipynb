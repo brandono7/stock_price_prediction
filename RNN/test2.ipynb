{
 "cells": [
  {
   "cell_type": "markdown",
   "id": "dc2ab61d",
   "metadata": {},
   "source": [
    "## Import Stuff"
   ]
  },
  {
   "cell_type": "code",
   "execution_count": 8,
   "id": "a353027f",
   "metadata": {},
   "outputs": [],
   "source": [
    "import pandas as pd\n",
    "import numpy as np\n",
    "from tensorflow import keras\n",
    "from tensorflow.keras.models import Sequential\n",
    "from tensorflow.keras.layers import SimpleRNN, Dense\n",
    "from tensorflow.keras.optimizers import Adam\n",
    "from sklearn.preprocessing import MinMaxScaler, StandardScaler\n",
    "import keras_tuner as kt\n",
    "from sklearn.metrics import accuracy_score, f1_score, roc_auc_score, confusion_matrix, roc_curve\n",
    "import matplotlib.pyplot as plt"
   ]
  },
  {
   "cell_type": "markdown",
   "id": "cccf27e1",
   "metadata": {},
   "source": [
    "## Model Variables"
   ]
  },
  {
   "cell_type": "code",
   "execution_count": 9,
   "id": "44e40bfa",
   "metadata": {},
   "outputs": [],
   "source": [
    "rolling_window   = 50    # length of the input sequence\n",
    "epochs           = 10\n",
    "batch_size       = 32\n",
    "\n",
    "# Manual hyperparameters (for “manual tuning”)\n",
    "rnn_units        = 64\n",
    "learning_rate    = 1e-3"
   ]
  },
  {
   "cell_type": "markdown",
   "id": "d9e4d0a5",
   "metadata": {},
   "source": [
    "## Data Pre-processing"
   ]
  },
  {
   "cell_type": "code",
   "execution_count": 10,
   "id": "77145d3e",
   "metadata": {},
   "outputs": [],
   "source": [
    "# Load and prepare data\n",
    "combined_stocks_df = pd.read_csv(\"../filtered_stocks_combined.csv\")\n",
    "\n",
    "# Convert Date to datetime and set as index\n",
    "combined_stocks_df[\"Date\"] = pd.to_datetime(combined_stocks_df[\"Date\"])\n",
    "combined_stocks_df.set_index(\"Date\", inplace=True)\n",
    "\n",
    "# Drop unnecessary columns if any\n",
    "combined_stocks_df = combined_stocks_df.drop(columns=[\"index\"])  # Optional\n",
    "\n",
    "# Pivot to multi-level columns: Ticker as level 1, feature as level 2\n",
    "stocks_df = combined_stocks_df.pivot_table(\n",
    "    index=combined_stocks_df.index,\n",
    "    columns=\"ticker\",\n",
    "    values=[col for col in combined_stocks_df.columns if col != \"ticker\"]\n",
    ")\n",
    "\n",
    "# Sort columns for clarity\n",
    "stocks_df = stocks_df.sort_index(axis=1, level=0)\n",
    "\n",
    "# Swap the column MultiIndex levels\n",
    "stocks_df_leveled = stocks_df.swaplevel(axis=1)\n",
    "\n",
    "# Sort by ticker (Level 0)\n",
    "stocks_df_leveled = stocks_df_leveled.sort_index(axis=1, level=0)"
   ]
  },
  {
   "cell_type": "markdown",
   "id": "52632b0d",
   "metadata": {},
   "source": [
    "## Dataset Split"
   ]
  },
  {
   "cell_type": "code",
   "execution_count": 11,
   "id": "4f13ca69",
   "metadata": {},
   "outputs": [],
   "source": [
    "#Time-based split into 60% train, 20% val, 20% test\n",
    "train_dict, val_dict, test_dict = {}, {}, {}\n",
    "\n",
    "# Time-based split into 60% train, 20% val, 20% test\n",
    "train_dict, val_dict, test_dict = {}, {}, {}\n",
    "\n",
    "# Compute Logarithmic Returns, split into train, val and test sets\n",
    "for ticker in stocks_df_leveled.columns.levels[0]:\n",
    "    stocks_df_leveled.loc[:, (ticker, 'log_return')] = np.log(\n",
    "        stocks_df_leveled[ticker]['Close'] / stocks_df_leveled[ticker]['Close'].shift(1)\n",
    "    )\n",
    "\n",
    "    df = stocks_df_leveled[ticker].dropna().sort_index()\n",
    "    total_len = len(df)\n",
    "    train_end = int(total_len * 0.6)\n",
    "    val_end = train_end + int(total_len * 0.2)\n",
    "\n",
    "    train_dict[ticker] = df.iloc[:train_end]\n",
    "    val_dict[ticker] = df.iloc[train_end:val_end]\n",
    "    test_dict[ticker] = df.iloc[val_end:]\n",
    "\n",
    "train_df = pd.concat(train_dict, names=[\"Ticker\", \"Date\"])\n",
    "val_df = pd.concat(val_dict, names=[\"Ticker\", \"Date\"])\n",
    "test_df = pd.concat(test_dict, names=[\"Ticker\", \"Date\"])"
   ]
  },
  {
   "cell_type": "markdown",
   "id": "015fa077",
   "metadata": {},
   "source": [
    "## Feature Scaling & Extraction"
   ]
  },
  {
   "cell_type": "code",
   "execution_count": 12,
   "id": "2b65eb5e",
   "metadata": {},
   "outputs": [
    {
     "name": "stdout",
     "output_type": "stream",
     "text": [
      "[[ 0.70832579  0.73573349  0.71524614  0.74380959  0.79802262]\n",
      " [ 0.74724251  0.75608693  0.7577544   0.74365754  0.61620678]\n",
      " [ 0.75180306  0.7548808   0.76358586  0.76874545  0.59778391]\n",
      " ...\n",
      " [ 0.4136229   0.40884224  0.41920757  0.4079205  -0.36326138]\n",
      " [ 0.40515548  0.40143962  0.41581612  0.40863512 -0.36052951]\n",
      " [ 0.40410655  0.40288698  0.41553989  0.40731231 -0.29423036]]\n"
     ]
    }
   ],
   "source": [
    "# Define features and binary classification target\n",
    "features = ['Open', 'High', 'Low', 'Close', 'Volume']\n",
    "train_df['target'] = (train_df['log_return'] > 0).astype(int)\n",
    "val_df['target'] = (val_df['log_return'] > 0).astype(int)\n",
    "test_df['target'] = (test_df['log_return'] > 0).astype(int)\n",
    "\n",
    "# Extract features and target\n",
    "X_train = train_df[features]\n",
    "y_train = train_df['target']\n",
    "X_val = val_df[features]\n",
    "y_val = val_df['target']\n",
    "X_test = test_df[features]\n",
    "y_test = test_df['target']\n",
    "\n",
    "# Feature scaling\n",
    "scaler = StandardScaler()\n",
    "X_train_scaled = scaler.fit_transform(X_train)\n",
    "X_val_scaled = scaler.transform(X_val)\n",
    "X_test_scaled = scaler.transform(X_test)\n",
    "\n",
    "print(X_test_scaled)"
   ]
  },
  {
   "cell_type": "markdown",
   "id": "2e6da839",
   "metadata": {},
   "source": [
    "## Create RNN Sequences"
   ]
  },
  {
   "cell_type": "code",
   "execution_count": 13,
   "id": "0c179cfa",
   "metadata": {},
   "outputs": [
    {
     "data": {
      "text/plain": [
       "array([[[-0.26703953, -0.27245509, -0.27022423, -0.26965071,\n",
       "          1.71810283],\n",
       "        [-0.27188892, -0.26886686, -0.26756939, -0.26438986,\n",
       "          1.31218769],\n",
       "        [-0.26212934, -0.26713305, -0.26087855, -0.26489161,\n",
       "          1.65206891],\n",
       "        ...,\n",
       "        [-0.22734753, -0.22613972, -0.22469282, -0.22628664,\n",
       "          2.64857337],\n",
       "        [-0.24885813, -0.24278431, -0.24676029, -0.24214524,\n",
       "          4.72968661],\n",
       "        [-0.24884293, -0.25213181, -0.27390726, -0.27215951,\n",
       "          7.8978525 ]],\n",
       "\n",
       "       [[-0.27188892, -0.26886686, -0.26756939, -0.26438986,\n",
       "          1.31218769],\n",
       "        [-0.26212934, -0.26713305, -0.26087855, -0.26489161,\n",
       "          1.65206891],\n",
       "        [-0.26387755, -0.26500724, -0.26285818, -0.26023895,\n",
       "          1.7278263 ],\n",
       "        ...,\n",
       "        [-0.24885813, -0.24278431, -0.24676029, -0.24214524,\n",
       "          4.72968661],\n",
       "        [-0.24884293, -0.25213181, -0.27390726, -0.27215951,\n",
       "          7.8978525 ],\n",
       "        [-0.25838969, -0.25869014, -0.26526749, -0.26314306,\n",
       "          4.27779418]],\n",
       "\n",
       "       [[-0.26212934, -0.26713305, -0.26087855, -0.26489161,\n",
       "          1.65206891],\n",
       "        [-0.26387755, -0.26500724, -0.26285818, -0.26023895,\n",
       "          1.7278263 ],\n",
       "        [-0.25466524, -0.25169459, -0.25248432, -0.24792306,\n",
       "          2.73521263],\n",
       "        ...,\n",
       "        [-0.24884293, -0.25213181, -0.27390726, -0.27215951,\n",
       "          7.8978525 ],\n",
       "        [-0.25838969, -0.25869014, -0.26526749, -0.26314306,\n",
       "          4.27779418],\n",
       "        [-0.2584809 , -0.26146424, -0.26658725, -0.2708671 ,\n",
       "          4.96732269]],\n",
       "\n",
       "       ...,\n",
       "\n",
       "       [[ 0.44553157,  0.4380155 ,  0.44831882,  0.44197924,\n",
       "         -0.29338754],\n",
       "        [ 0.44133586,  0.44015638,  0.44996084,  0.43793476,\n",
       "         -0.31642943],\n",
       "        [ 0.44460425,  0.4347891 ,  0.44956184,  0.44077806,\n",
       "         -0.36035466],\n",
       "        ...,\n",
       "        [ 0.40544431,  0.4068069 ,  0.41122768,  0.40769243,\n",
       "         -0.09792368],\n",
       "        [ 0.4070405 ,  0.41853651,  0.41296177,  0.42549724,\n",
       "         -0.18031863],\n",
       "        [ 0.41572076,  0.40668628,  0.40582591,  0.39964909,\n",
       "         -0.15293317]],\n",
       "\n",
       "       [[ 0.44133586,  0.44015638,  0.44996084,  0.43793476,\n",
       "         -0.31642943],\n",
       "        [ 0.44460425,  0.4347891 ,  0.44956184,  0.44077806,\n",
       "         -0.36035466],\n",
       "        [ 0.43455584,  0.42806493,  0.44086069,  0.4307733 ,\n",
       "         -0.19963208],\n",
       "        ...,\n",
       "        [ 0.4070405 ,  0.41853651,  0.41296177,  0.42549724,\n",
       "         -0.18031863],\n",
       "        [ 0.41572076,  0.40668628,  0.40582591,  0.39964909,\n",
       "         -0.15293317],\n",
       "        [ 0.39980443,  0.40816379,  0.41147321,  0.41010999,\n",
       "         -0.24697807]],\n",
       "\n",
       "       [[ 0.44460425,  0.4347891 ,  0.44956184,  0.44077806,\n",
       "         -0.36035466],\n",
       "        [ 0.43455584,  0.42806493,  0.44086069,  0.4307733 ,\n",
       "         -0.19963208],\n",
       "        [ 0.4309226 ,  0.42444654,  0.43136155,  0.42295804,\n",
       "         -0.3111991 ],\n",
       "        ...,\n",
       "        [ 0.41572076,  0.40668628,  0.40582591,  0.39964909,\n",
       "         -0.15293317],\n",
       "        [ 0.39980443,  0.40816379,  0.41147321,  0.41010999,\n",
       "         -0.24697807],\n",
       "        [ 0.42082857,  0.41066651,  0.4037849 ,  0.40059179,\n",
       "         -0.2439686 ]]])"
      ]
     },
     "execution_count": 13,
     "metadata": {},
     "output_type": "execute_result"
    }
   ],
   "source": [
    "def create_sequences(X, y, window):\n",
    "    Xs, ys = [], []\n",
    "    for i in range(len(X) - window):\n",
    "        Xs.append(X[i:i+window])\n",
    "        ys.append(y[i+window])\n",
    "    return np.array(Xs), np.array(ys)\n",
    "\n",
    "# convert to numpy arrays\n",
    "y_train_arr = y_train.values\n",
    "y_val_arr   = y_val.values\n",
    "y_test_arr  = y_test.values\n",
    "\n",
    "# build sequences\n",
    "X_train_seq, y_train_seq = create_sequences(X_train_scaled, y_train_arr, rolling_window)\n",
    "X_val_seq,   y_val_seq   = create_sequences(X_val_scaled,   y_val_arr,   rolling_window)\n",
    "X_test_seq,  y_test_seq  = create_sequences(X_test_scaled,  y_test_arr,  rolling_window)\n",
    "X_train_seq"
   ]
  },
  {
   "cell_type": "markdown",
   "id": "99b52d64",
   "metadata": {},
   "source": [
    "## Autotuner Model (Base)"
   ]
  },
  {
   "cell_type": "code",
   "execution_count": 14,
   "id": "724f84d1",
   "metadata": {},
   "outputs": [
    {
     "name": "stdout",
     "output_type": "stream",
     "text": [
      "Reloading Tuner from rnn_tuner\\stock_class_rnn\\tuner0.json\n",
      "Epoch 1/10\n"
     ]
    },
    {
     "name": "stderr",
     "output_type": "stream",
     "text": [
      "c:\\Users\\djleong01\\AppData\\Local\\Programs\\Python\\Python312\\Lib\\site-packages\\keras\\src\\layers\\rnn\\rnn.py:204: UserWarning: Do not pass an `input_shape`/`input_dim` argument to a layer. When using Sequential models, prefer using an `Input(shape)` object as the first layer in the model instead.\n",
      "  super().__init__(**kwargs)\n"
     ]
    },
    {
     "name": "stdout",
     "output_type": "stream",
     "text": [
      "\u001b[1m1413/1413\u001b[0m \u001b[32m━━━━━━━━━━━━━━━━━━━━\u001b[0m\u001b[37m\u001b[0m \u001b[1m11s\u001b[0m 7ms/step - accuracy: 0.5021 - loss: 0.7095 - val_accuracy: 0.4949 - val_loss: 0.6948\n",
      "Epoch 2/10\n",
      "\u001b[1m1413/1413\u001b[0m \u001b[32m━━━━━━━━━━━━━━━━━━━━\u001b[0m\u001b[37m\u001b[0m \u001b[1m10s\u001b[0m 7ms/step - accuracy: 0.4975 - loss: 0.7058 - val_accuracy: 0.5075 - val_loss: 0.6946\n",
      "Epoch 3/10\n",
      "\u001b[1m1413/1413\u001b[0m \u001b[32m━━━━━━━━━━━━━━━━━━━━\u001b[0m\u001b[37m\u001b[0m \u001b[1m11s\u001b[0m 7ms/step - accuracy: 0.5025 - loss: 0.7039 - val_accuracy: 0.4975 - val_loss: 0.7003\n",
      "Epoch 4/10\n",
      "\u001b[1m1413/1413\u001b[0m \u001b[32m━━━━━━━━━━━━━━━━━━━━\u001b[0m\u001b[37m\u001b[0m \u001b[1m11s\u001b[0m 7ms/step - accuracy: 0.4981 - loss: 0.7062 - val_accuracy: 0.5040 - val_loss: 0.6982\n",
      "Epoch 5/10\n",
      "\u001b[1m1413/1413\u001b[0m \u001b[32m━━━━━━━━━━━━━━━━━━━━\u001b[0m\u001b[37m\u001b[0m \u001b[1m11s\u001b[0m 7ms/step - accuracy: 0.4991 - loss: 0.7069 - val_accuracy: 0.5073 - val_loss: 0.7136\n",
      "Epoch 6/10\n",
      "\u001b[1m1413/1413\u001b[0m \u001b[32m━━━━━━━━━━━━━━━━━━━━\u001b[0m\u001b[37m\u001b[0m \u001b[1m11s\u001b[0m 7ms/step - accuracy: 0.5059 - loss: 0.7049 - val_accuracy: 0.5111 - val_loss: 0.7051\n",
      "Epoch 7/10\n",
      "\u001b[1m1413/1413\u001b[0m \u001b[32m━━━━━━━━━━━━━━━━━━━━\u001b[0m\u001b[37m\u001b[0m \u001b[1m10s\u001b[0m 7ms/step - accuracy: 0.5060 - loss: 0.7039 - val_accuracy: 0.5095 - val_loss: 0.7087\n",
      "Epoch 8/10\n",
      "\u001b[1m1413/1413\u001b[0m \u001b[32m━━━━━━━━━━━━━━━━━━━━\u001b[0m\u001b[37m\u001b[0m \u001b[1m10s\u001b[0m 7ms/step - accuracy: 0.5035 - loss: 0.7066 - val_accuracy: 0.5023 - val_loss: 0.6982\n",
      "Epoch 9/10\n",
      "\u001b[1m1413/1413\u001b[0m \u001b[32m━━━━━━━━━━━━━━━━━━━━\u001b[0m\u001b[37m\u001b[0m \u001b[1m11s\u001b[0m 8ms/step - accuracy: 0.5049 - loss: 0.7054 - val_accuracy: 0.5097 - val_loss: 0.6942\n",
      "Epoch 10/10\n",
      "\u001b[1m1413/1413\u001b[0m \u001b[32m━━━━━━━━━━━━━━━━━━━━\u001b[0m\u001b[37m\u001b[0m \u001b[1m11s\u001b[0m 7ms/step - accuracy: 0.5021 - loss: 0.7065 - val_accuracy: 0.5046 - val_loss: 0.6943\n"
     ]
    }
   ],
   "source": [
    "def build_model_hp(hp):\n",
    "    units = hp.Int('units', 16, 128, step=16)\n",
    "    lr    = hp.Float('lr', 1e-4, 1e-2, sampling='log')\n",
    "    model = Sequential([\n",
    "        SimpleRNN(units, input_shape=(rolling_window, len(features))),\n",
    "        Dense(1, activation='sigmoid')\n",
    "    ])\n",
    "    model.compile(\n",
    "        optimizer=Adam(learning_rate=lr),\n",
    "        loss='binary_crossentropy',\n",
    "        metrics=['accuracy']\n",
    "    )\n",
    "    return model\n",
    "\n",
    "tuner = kt.RandomSearch(\n",
    "    build_model_hp,\n",
    "    objective='val_accuracy',\n",
    "    max_trials=5,\n",
    "    executions_per_trial=1,\n",
    "    directory='rnn_tuner',\n",
    "    project_name='stock_class_rnn'\n",
    ")\n",
    "\n",
    "tuner.search(\n",
    "    X_train_seq, y_train_seq,\n",
    "    epochs=5,\n",
    "    batch_size=batch_size,\n",
    "    validation_data=(X_val_seq, y_val_seq)\n",
    ")\n",
    "\n",
    "best_hp   = tuner.get_best_hyperparameters(num_trials=1)[0]\n",
    "auto_model = tuner.hypermodel.build(best_hp)\n",
    "history_auto = auto_model.fit(\n",
    "    X_train_seq, y_train_seq,\n",
    "    epochs=epochs,\n",
    "    batch_size=batch_size,\n",
    "    validation_data=(X_val_seq, y_val_seq)\n",
    ")\n"
   ]
  },
  {
   "cell_type": "markdown",
   "id": "3a0f352e",
   "metadata": {},
   "source": [
    "### Result Analysis & Evaluation"
   ]
  },
  {
   "cell_type": "code",
   "execution_count": 16,
   "id": "83afd4e1",
   "metadata": {},
   "outputs": [
    {
     "name": "stdout",
     "output_type": "stream",
     "text": [
      "\u001b[1m472/472\u001b[0m \u001b[32m━━━━━━━━━━━━━━━━━━━━\u001b[0m\u001b[37m\u001b[0m \u001b[1m2s\u001b[0m 3ms/step\n",
      "\u001b[1m472/472\u001b[0m \u001b[32m━━━━━━━━━━━━━━━━━━━━\u001b[0m\u001b[37m\u001b[0m \u001b[1m1s\u001b[0m 3ms/step\n",
      "Auto‑Tuned Model:\n",
      "  True Positives (correct UP)  : 3825\n",
      "  True Negatives (correct DOWN): 3707\n"
     ]
    },
    {
     "data": {
      "image/png": "[encoded data removed]",
      "text/plain": [
       "<Figure size 640x480 with 1 Axes>"
      ]
     },
     "metadata": {},
     "output_type": "display_data"
    }
   ],
   "source": [
    "# 1) Compute actual counts\n",
    "actual_up = (y_test_seq == 1).sum()\n",
    "actual_down = (y_test_seq == 0).sum()\n",
    "\n",
    "# 3) Auto model predictions & counts\n",
    "y_prob_auto = auto_model.predict(X_test_seq).ravel()\n",
    "y_pred_auto = (y_prob_auto > 0.5).astype(int)\n",
    "pred_up_auto   = y_pred_auto.sum()\n",
    "pred_down_auto = len(y_pred_auto) - pred_up_auto\n",
    "\n",
    "# Auto‑tuned model counts\n",
    "y_prob_auto  = auto_model.predict(X_test_seq).ravel()\n",
    "y_pred_auto  = (y_prob_auto > 0.5).astype(int)\n",
    "\n",
    "tp_auto = ((y_pred_auto == 1) & (y_test_seq == 1)).sum()\n",
    "tn_auto = ((y_pred_auto == 0) & (y_test_seq == 0)).sum()\n",
    "\n",
    "print(\"Auto‑Tuned Model:\")\n",
    "print(f\"  True Positives (correct UP)  : {tp_auto}\")\n",
    "print(f\"  True Negatives (correct DOWN): {tn_auto}\")\n",
    "\n",
    "# 6) Plot ROC for Auto‑tuned model\n",
    "fpr_a, tpr_a, _ = roc_curve(y_test_seq, y_prob_auto)\n",
    "auc_a = roc_auc_score(y_test_seq, y_prob_auto)\n",
    "\n",
    "plt.figure()\n",
    "plt.plot(fpr_a, tpr_a, label=f'AUC = {auc_a:.3f}')\n",
    "plt.plot([0, 1], [0, 1], linestyle='--')\n",
    "plt.xlabel('False Positive Rate')\n",
    "plt.ylabel('True Positive Rate')\n",
    "plt.title('ROC Curve – Auto‑Tuned Model')\n",
    "plt.legend(loc='lower right')\n",
    "plt.show()"
   ]
  },
  {
   "cell_type": "markdown",
   "id": "4b1dca5d",
   "metadata": {},
   "source": [
    "## Auto Tuner (With 1 dense layer)"
   ]
  },
  {
   "cell_type": "code",
   "execution_count": 17,
   "id": "24609145",
   "metadata": {},
   "outputs": [
    {
     "name": "stdout",
     "output_type": "stream",
     "text": [
      "Reloading Tuner from rnn_tuner\\stock_class_rnn_hidden\\tuner0.json\n",
      "Epoch 1/10\n"
     ]
    },
    {
     "name": "stderr",
     "output_type": "stream",
     "text": [
      "c:\\Users\\djleong01\\AppData\\Local\\Programs\\Python\\Python312\\Lib\\site-packages\\keras\\src\\layers\\rnn\\rnn.py:204: UserWarning: Do not pass an `input_shape`/`input_dim` argument to a layer. When using Sequential models, prefer using an `Input(shape)` object as the first layer in the model instead.\n",
      "  super().__init__(**kwargs)\n"
     ]
    },
    {
     "name": "stdout",
     "output_type": "stream",
     "text": [
      "\u001b[1m1413/1413\u001b[0m \u001b[32m━━━━━━━━━━━━━━━━━━━━\u001b[0m\u001b[37m\u001b[0m \u001b[1m13s\u001b[0m 8ms/step - accuracy: 0.5106 - loss: 0.6955 - val_accuracy: 0.5032 - val_loss: 0.6949\n",
      "Epoch 2/10\n",
      "\u001b[1m1413/1413\u001b[0m \u001b[32m━━━━━━━━━━━━━━━━━━━━\u001b[0m\u001b[37m\u001b[0m \u001b[1m12s\u001b[0m 8ms/step - accuracy: 0.5126 - loss: 0.6938 - val_accuracy: 0.5073 - val_loss: 0.6934\n",
      "Epoch 3/10\n",
      "\u001b[1m1413/1413\u001b[0m \u001b[32m━━━━━━━━━━━━━━━━━━━━\u001b[0m\u001b[37m\u001b[0m \u001b[1m11s\u001b[0m 8ms/step - accuracy: 0.5097 - loss: 0.6940 - val_accuracy: 0.5119 - val_loss: 0.6943\n",
      "Epoch 4/10\n",
      "\u001b[1m1413/1413\u001b[0m \u001b[32m━━━━━━━━━━━━━━━━━━━━\u001b[0m\u001b[37m\u001b[0m \u001b[1m10s\u001b[0m 7ms/step - accuracy: 0.5125 - loss: 0.6932 - val_accuracy: 0.5084 - val_loss: 0.6943\n",
      "Epoch 5/10\n",
      "\u001b[1m1413/1413\u001b[0m \u001b[32m━━━━━━━━━━━━━━━━━━━━\u001b[0m\u001b[37m\u001b[0m \u001b[1m12s\u001b[0m 9ms/step - accuracy: 0.5190 - loss: 0.6926 - val_accuracy: 0.5085 - val_loss: 0.6942\n",
      "Epoch 6/10\n",
      "\u001b[1m1413/1413\u001b[0m \u001b[32m━━━━━━━━━━━━━━━━━━━━\u001b[0m\u001b[37m\u001b[0m \u001b[1m12s\u001b[0m 9ms/step - accuracy: 0.5203 - loss: 0.6928 - val_accuracy: 0.5079 - val_loss: 0.6932\n",
      "Epoch 7/10\n",
      "\u001b[1m1413/1413\u001b[0m \u001b[32m━━━━━━━━━━━━━━━━━━━━\u001b[0m\u001b[37m\u001b[0m \u001b[1m12s\u001b[0m 8ms/step - accuracy: 0.5189 - loss: 0.6922 - val_accuracy: 0.5065 - val_loss: 0.6940\n",
      "Epoch 8/10\n",
      "\u001b[1m1413/1413\u001b[0m \u001b[32m━━━━━━━━━━━━━━━━━━━━\u001b[0m\u001b[37m\u001b[0m \u001b[1m10s\u001b[0m 7ms/step - accuracy: 0.5210 - loss: 0.6923 - val_accuracy: 0.5111 - val_loss: 0.6932\n",
      "Epoch 9/10\n",
      "\u001b[1m1413/1413\u001b[0m \u001b[32m━━━━━━━━━━━━━━━━━━━━\u001b[0m\u001b[37m\u001b[0m \u001b[1m10s\u001b[0m 7ms/step - accuracy: 0.5197 - loss: 0.6922 - val_accuracy: 0.4899 - val_loss: 0.7001\n",
      "Epoch 10/10\n",
      "\u001b[1m1413/1413\u001b[0m \u001b[32m━━━━━━━━━━━━━━━━━━━━\u001b[0m\u001b[37m\u001b[0m \u001b[1m13s\u001b[0m 9ms/step - accuracy: 0.5055 - loss: 0.6951 - val_accuracy: 0.4896 - val_loss: 0.6950\n"
     ]
    }
   ],
   "source": [
    "def build_model_hp(hp):\n",
    "    # Hyperparameters to search:\n",
    "    num_rnn     = hp.Int('num_rnn_layers',   1, 3)             # 1 to 3 stacked RNNs\n",
    "    rnn_units   = hp.Int('rnn_units',        16, 128, step=16)\n",
    "    lr          = hp.Float('lr',             1e-4, 1e-2, sampling='log')\n",
    "    dense_units = hp.Int('dense_units',      0, 64,  step=16)  # 0 = no dense layer\n",
    "\n",
    "    model = Sequential()\n",
    "    # Stack RNN layers\n",
    "    for i in range(num_rnn):\n",
    "        return_seq = (i < num_rnn - 1)\n",
    "        if i == 0:\n",
    "            model.add(SimpleRNN(\n",
    "                rnn_units,\n",
    "                return_sequences=return_seq,\n",
    "                input_shape=(rolling_window, len(features))\n",
    "            ))\n",
    "        else:\n",
    "            model.add(SimpleRNN(rnn_units, return_sequences=return_seq))\n",
    "\n",
    "    # Optional hidden Dense layer\n",
    "    if dense_units > 0:\n",
    "        model.add(Dense(dense_units, activation='relu'))\n",
    "\n",
    "    # Output layer\n",
    "    model.add(Dense(1, activation='sigmoid'))\n",
    "\n",
    "    model.compile(\n",
    "        optimizer=Adam(learning_rate=lr),\n",
    "        loss='binary_crossentropy',\n",
    "        metrics=['accuracy']\n",
    "    )\n",
    "    return model\n",
    "\n",
    "tuner = kt.RandomSearch(\n",
    "    build_model_hp,\n",
    "    objective='val_accuracy',\n",
    "    max_trials=5,                # increase trials to cover more combos\n",
    "    executions_per_trial=1,\n",
    "    directory='rnn_tuner',\n",
    "    project_name='stock_class_rnn_hidden'\n",
    ")\n",
    "\n",
    "tuner.search(\n",
    "    X_train_seq, y_train_seq,\n",
    "    epochs=5,\n",
    "    batch_size=batch_size,\n",
    "    validation_data=(X_val_seq, y_val_seq)\n",
    ")\n",
    "\n",
    "best_hp   = tuner.get_best_hyperparameters(num_trials=1)[0]\n",
    "auto_model = tuner.hypermodel.build(best_hp)\n",
    "\n",
    "history_auto = auto_model.fit(\n",
    "    X_train_seq, y_train_seq,\n",
    "    epochs=epochs,\n",
    "    batch_size=batch_size,\n",
    "    validation_data=(X_val_seq, y_val_seq)\n",
    ")\n"
   ]
  },
  {
   "cell_type": "markdown",
   "id": "f8eec158",
   "metadata": {},
   "source": [
    "### Results & Analysis"
   ]
  },
  {
   "cell_type": "code",
   "execution_count": 19,
   "id": "69f4bf9f",
   "metadata": {},
   "outputs": [
    {
     "name": "stdout",
     "output_type": "stream",
     "text": [
      "\u001b[1m472/472\u001b[0m \u001b[32m━━━━━━━━━━━━━━━━━━━━\u001b[0m\u001b[37m\u001b[0m \u001b[1m2s\u001b[0m 3ms/step\n",
      "\u001b[1m472/472\u001b[0m \u001b[32m━━━━━━━━━━━━━━━━━━━━\u001b[0m\u001b[37m\u001b[0m \u001b[1m2s\u001b[0m 3ms/step\n",
      "Auto‑Tuned Model:\n",
      "  True Positives (correct UP)  : 2915\n",
      "  True Negatives (correct DOWN): 4572\n",
      "  False Positives (incorrect UP): 2729\n",
      "  False Negatives (incorrect DOWN): 4884\n",
      "  Accuracy: 0.496\n"
     ]
    },
    {
     "data": {
      "image/png": "[encoded data removed]",
      "text/plain": [
       "<Figure size 640x480 with 1 Axes>"
      ]
     },
     "metadata": {},
     "output_type": "display_data"
    }
   ],
   "source": [
    "# 1) Compute actual counts\n",
    "actual_up = (y_test_seq == 1).sum()\n",
    "actual_down = (y_test_seq == 0).sum()\n",
    "\n",
    "# 3) Auto model predictions & counts\n",
    "y_prob_auto = auto_model.predict(X_test_seq).ravel()\n",
    "y_pred_auto = (y_prob_auto > 0.5).astype(int)\n",
    "pred_up_auto   = y_pred_auto.sum()\n",
    "pred_down_auto = len(y_pred_auto) - pred_up_auto\n",
    "\n",
    "# Auto‑tuned model counts\n",
    "y_prob_auto  = auto_model.predict(X_test_seq).ravel()\n",
    "y_pred_auto  = (y_prob_auto > 0.5).astype(int)\n",
    "\n",
    "tp_auto = ((y_pred_auto == 1) & (y_test_seq == 1)).sum()\n",
    "tn_auto = ((y_pred_auto == 0) & (y_test_seq == 0)).sum()\n",
    "\n",
    "print(\"Auto‑Tuned Model:\")\n",
    "print(f\"  True Positives (correct UP)  : {tp_auto}\")\n",
    "print(f\"  True Negatives (correct DOWN): {tn_auto}\")\n",
    "print(f\"  False Positives (incorrect UP): {pred_up_auto - tp_auto}\")\n",
    "print(f\"  False Negatives (incorrect DOWN): {pred_down_auto - tn_auto}\")\n",
    "\n",
    "acc_auto = accuracy_score(y_test_seq, y_pred_auto)\n",
    "print(f\"  Accuracy: {acc_auto:.3f}\")\n",
    "# 6) Plot ROC for Auto‑tuned model\n",
    "fpr_a, tpr_a, _ = roc_curve(y_test_seq, y_prob_auto)\n",
    "auc_a = roc_auc_score(y_test_seq, y_prob_auto)\n",
    "\n",
    "plt.figure()\n",
    "plt.plot(fpr_a, tpr_a, label=f'AUC = {auc_a:.3f}')\n",
    "plt.plot([0, 1], [0, 1], linestyle='--')\n",
    "plt.xlabel('False Positive Rate')\n",
    "plt.ylabel('True Positive Rate')\n",
    "plt.title('ROC Curve – Auto‑Tuned Model')\n",
    "plt.legend(loc='lower right')\n",
    "plt.show()"
   ]
  },
  {
   "cell_type": "code",
   "execution_count": null,
   "id": "965590ef",
   "metadata": {},
   "outputs": [],
   "source": []
  }
 ],
 "metadata": {
  "kernelspec": {
   "display_name": "Python 3",
   "language": "python",
   "name": "python3"
  },
  "language_info": {
   "codemirror_mode": {
    "name": "ipython",
    "version": 3
   },
   "file_extension": ".py",
   "mimetype": "text/x-python",
   "name": "python",
   "nbconvert_exporter": "python",
   "pygments_lexer": "ipython3",
   "version": "3.12.2"
  }
 },
 "nbformat": 4,
 "nbformat_minor": 5
}
