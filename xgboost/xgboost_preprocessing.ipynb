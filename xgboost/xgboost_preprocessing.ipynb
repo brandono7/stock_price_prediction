{
 "cells": [
  {
   "cell_type": "markdown",
   "metadata": {},
   "source": [
    "# XGBoost"
   ]
  },
  {
   "cell_type": "code",
   "execution_count": 6,
   "metadata": {},
   "outputs": [],
   "source": [
    "import pandas as pd\n",
    "import numpy as np\n",
    "\n",
    "# Load and prepare data\n",
    "combined_stocks_df = pd.read_csv(\"../filtered_stocks_combined.csv\")\n",
    "\n",
    "# Convert Date to datetime and set as index\n",
    "combined_stocks_df[\"Date\"] = pd.to_datetime(combined_stocks_df[\"Date\"])\n",
    "combined_stocks_df.set_index(\"Date\", inplace=True)\n",
    "\n",
    "# Drop unnecessary columns if any\n",
    "combined_stocks_df = combined_stocks_df.drop(columns=[\"index\"])  # Optional\n",
    "\n",
    "# Pivot to multi-level columns: Ticker as level 1, feature as level 2\n",
    "stocks_df = combined_stocks_df.pivot_table(\n",
    "    index=combined_stocks_df.index,\n",
    "    columns=\"ticker\",\n",
    "    values=[col for col in combined_stocks_df.columns if col != \"ticker\"]\n",
    ")\n",
    "\n",
    "# Sort columns for clarity\n",
    "stocks_df = stocks_df.sort_index(axis=1, level=0)\n",
    "\n",
    "# Swap the column MultiIndex levels\n",
    "stocks_df_leveled = stocks_df.swaplevel(axis=1)\n",
    "\n",
    "# Sort by ticker (Level 0)\n",
    "stocks_df_leveled = stocks_df_leveled.sort_index(axis=1, level=0)\n",
    "\n",
    "#Time-based split into 60% train, 20% val, 20% test\n",
    "train_dict, val_dict, test_dict = {}, {}, {}\n",
    "\n",
    "# Compute Logarithmic Returns, split into train, val and test sets\n",
    "for ticker in stocks_df_leveled.columns.levels[0]:\n",
    "    stocks_df_leveled.loc[:, (ticker, 'log_return')] = np.log(\n",
    "        stocks_df_leveled[ticker]['Close'] / stocks_df_leveled[ticker]['Close'].shift(1)\n",
    "    )\n",
    "\n",
    "    df = stocks_df_leveled[ticker].dropna().sort_index()\n",
    "    total_len = len(df)\n",
    "    train_end = int(total_len * 0.6)\n",
    "    val_end = train_end + int(total_len * 0.2)\n",
    "\n",
    "    train_dict[ticker] = df.iloc[:train_end]\n",
    "    val_dict[ticker] = df.iloc[train_end:val_end]\n",
    "    test_dict[ticker] = df.iloc[val_end:]\n",
    "\n",
    "train_df = pd.concat(train_dict, names=[\"Ticker\", \"Date\"])\n",
    "val_df = pd.concat(val_dict, names=[\"Ticker\", \"Date\"])\n",
    "test_df = pd.concat(test_dict, names=[\"Ticker\", \"Date\"])"
   ]
  },
  {
   "cell_type": "markdown",
   "metadata": {},
   "source": [
    "## Export to CSV"
   ]
  },
  {
   "cell_type": "code",
   "execution_count": 7,
   "metadata": {},
   "outputs": [],
   "source": [
    "train_df.to_csv(\"./datasets/train.csv\")\n",
    "val_df.to_csv(\"./datasets/val.csv\")\n",
    "test_df.to_csv(\"./datasets/test.csv\")"
   ]
  }
 ],
 "metadata": {
  "kernelspec": {
   "display_name": "cs3244",
   "language": "python",
   "name": "python3"
  },
  "language_info": {
   "codemirror_mode": {
    "name": "ipython",
    "version": 3
   },
   "file_extension": ".py",
   "mimetype": "text/x-python",
   "name": "python",
   "nbconvert_exporter": "python",
   "pygments_lexer": "ipython3",
   "version": "3.12.7"
  }
 },
 "nbformat": 4,
 "nbformat_minor": 2
}
