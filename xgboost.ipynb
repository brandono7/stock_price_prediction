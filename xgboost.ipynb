{
 "cells": [
  {
   "cell_type": "markdown",
   "metadata": {},
   "source": [
    "# XGBoost (No Rolling Window)"
   ]
  },
  {
   "cell_type": "markdown",
   "metadata": {},
   "source": [
    "## Preprocessing\n",
    "\n",
    "- Implement Log returns calculation\n",
    "- Normalize or scale key features\n",
    "- Encode log return to binary value (one-hot encoding)"
   ]
  },
  {
   "cell_type": "code",
   "execution_count": null,
   "metadata": {},
   "outputs": [
    {
     "ename": "XGBoostError",
     "evalue": "[04:27:03] C:\\actions-runner\\_work\\xgboost\\xgboost\\src\\c_api\\c_api.cc:200: Unknown global parameters: { predictor }",
     "output_type": "error",
     "traceback": [
      "\u001b[31m---------------------------------------------------------------------------\u001b[39m",
      "\u001b[31mXGBoostError\u001b[39m                              Traceback (most recent call last)",
      "\u001b[36mCell\u001b[39m\u001b[36m \u001b[39m\u001b[32mIn[12]\u001b[39m\u001b[32m, line 12\u001b[39m\n\u001b[32m      7\u001b[39m \u001b[38;5;28;01mfrom\u001b[39;00m\u001b[38;5;250m \u001b[39m\u001b[34;01msklearn\u001b[39;00m\u001b[34;01m.\u001b[39;00m\u001b[34;01mpreprocessing\u001b[39;00m\u001b[38;5;250m \u001b[39m\u001b[38;5;28;01mimport\u001b[39;00m StandardScaler\n\u001b[32m      8\u001b[39m \u001b[38;5;28;01mfrom\u001b[39;00m\u001b[38;5;250m \u001b[39m\u001b[34;01msklearn\u001b[39;00m\u001b[34;01m.\u001b[39;00m\u001b[34;01mmetrics\u001b[39;00m\u001b[38;5;250m \u001b[39m\u001b[38;5;28;01mimport\u001b[39;00m (accuracy_score, f1_score, \n\u001b[32m      9\u001b[39m                             confusion_matrix, roc_auc_score,\n\u001b[32m     10\u001b[39m                             RocCurveDisplay)\n\u001b[32m---> \u001b[39m\u001b[32m12\u001b[39m \u001b[43mxgb\u001b[49m\u001b[43m.\u001b[49m\u001b[43mset_config\u001b[49m\u001b[43m(\u001b[49m\u001b[43mpredictor\u001b[49m\u001b[43m=\u001b[49m\u001b[33;43m'\u001b[39;49m\u001b[33;43mgpu_predictor\u001b[39;49m\u001b[33;43m'\u001b[39;49m\u001b[43m)\u001b[49m\n\u001b[32m     14\u001b[39m df = pd.read_csv(\u001b[33m\"\u001b[39m\u001b[33m./filtered_stocks_combined.csv\u001b[39m\u001b[33m\"\u001b[39m)\n\u001b[32m     16\u001b[39m \u001b[38;5;66;03m# Change Date to DateTime\u001b[39;00m\n",
      "\u001b[36mFile \u001b[39m\u001b[32mc:\\ProgramData\\anaconda3\\envs\\cs3244\\Lib\\site-packages\\xgboost\\config.py:108\u001b[39m, in \u001b[36mconfig_doc.<locals>.config_doc_decorator.<locals>.wrap\u001b[39m\u001b[34m(*args, **kwargs)\u001b[39m\n\u001b[32m    106\u001b[39m \u001b[38;5;129m@wraps\u001b[39m(func)\n\u001b[32m    107\u001b[39m \u001b[38;5;28;01mdef\u001b[39;00m\u001b[38;5;250m \u001b[39m\u001b[34mwrap\u001b[39m(*args: Any, **kwargs: Any) -> Any:\n\u001b[32m--> \u001b[39m\u001b[32m108\u001b[39m     \u001b[38;5;28;01mreturn\u001b[39;00m \u001b[43mfunc\u001b[49m\u001b[43m(\u001b[49m\u001b[43m*\u001b[49m\u001b[43margs\u001b[49m\u001b[43m,\u001b[49m\u001b[43m \u001b[49m\u001b[43m*\u001b[49m\u001b[43m*\u001b[49m\u001b[43mkwargs\u001b[49m\u001b[43m)\u001b[49m\n",
      "\u001b[36mFile \u001b[39m\u001b[32mc:\\ProgramData\\anaconda3\\envs\\cs3244\\Lib\\site-packages\\xgboost\\config.py:132\u001b[39m, in \u001b[36mset_config\u001b[39m\u001b[34m(**new_config)\u001b[39m\n\u001b[32m    130\u001b[39m         not_none[k] = v\n\u001b[32m    131\u001b[39m config = json.dumps(not_none)\n\u001b[32m--> \u001b[39m\u001b[32m132\u001b[39m \u001b[43m_check_call\u001b[49m\u001b[43m(\u001b[49m\u001b[43m_LIB\u001b[49m\u001b[43m.\u001b[49m\u001b[43mXGBSetGlobalConfig\u001b[49m\u001b[43m(\u001b[49m\u001b[43mc_str\u001b[49m\u001b[43m(\u001b[49m\u001b[43mconfig\u001b[49m\u001b[43m)\u001b[49m\u001b[43m)\u001b[49m\u001b[43m)\u001b[49m\n",
      "\u001b[36mFile \u001b[39m\u001b[32mc:\\ProgramData\\anaconda3\\envs\\cs3244\\Lib\\site-packages\\xgboost\\core.py:310\u001b[39m, in \u001b[36m_check_call\u001b[39m\u001b[34m(ret)\u001b[39m\n\u001b[32m    299\u001b[39m \u001b[38;5;250m\u001b[39m\u001b[33;03m\"\"\"Check the return value of C API call\u001b[39;00m\n\u001b[32m    300\u001b[39m \n\u001b[32m    301\u001b[39m \u001b[33;03mThis function will raise exception when error occurs.\u001b[39;00m\n\u001b[32m   (...)\u001b[39m\u001b[32m    307\u001b[39m \u001b[33;03m    return value from API calls\u001b[39;00m\n\u001b[32m    308\u001b[39m \u001b[33;03m\"\"\"\u001b[39;00m\n\u001b[32m    309\u001b[39m \u001b[38;5;28;01mif\u001b[39;00m ret != \u001b[32m0\u001b[39m:\n\u001b[32m--> \u001b[39m\u001b[32m310\u001b[39m     \u001b[38;5;28;01mraise\u001b[39;00m XGBoostError(py_str(_LIB.XGBGetLastError()))\n",
      "\u001b[31mXGBoostError\u001b[39m: [04:27:03] C:\\actions-runner\\_work\\xgboost\\xgboost\\src\\c_api\\c_api.cc:200: Unknown global parameters: { predictor }"
     ]
    }
   ],
   "source": [
    "import pandas as pd\n",
    "import numpy as np\n",
    "from sklearn.model_selection import GroupShuffleSplit\n",
    "import xgboost as xgb\n",
    "from sklearn.model_selection import RandomizedSearchCV, GridSearchCV\n",
    "import matplotlib.pyplot as plt\n",
    "from sklearn.preprocessing import StandardScaler\n",
    "from sklearn.metrics import (accuracy_score, f1_score, \n",
    "                            confusion_matrix, roc_auc_score,\n",
    "                            RocCurveDisplay)\n",
    "\n",
    "df = pd.read_csv(\"./filtered_stocks_combined.csv\")\n",
    "\n",
    "# Change Date to DateTime\n",
    "df['Date'] = pd.to_datetime(df['Date'])\n",
    "df = df.sort_values(['ticker', 'Date'])\n",
    "\n",
    "# Create target variable\n",
    "# 1 if current close > prev close, else 0\n",
    "df['prev_close'] = df.groupby('ticker')['Close'].shift(1)\n",
    "df['target'] = (df['Close'] > df['prev_close']).astype(int)\n",
    "df = df.dropna(subset=['prev_close'])"
   ]
  },
  {
   "cell_type": "code",
   "execution_count": null,
   "metadata": {},
   "outputs": [],
   "source": [
    "df.head()"
   ]
  },
  {
   "cell_type": "markdown",
   "metadata": {},
   "source": [
    "## Split df into training/test set"
   ]
  },
  {
   "cell_type": "code",
   "execution_count": null,
   "metadata": {},
   "outputs": [],
   "source": [
    "features = ['Open', 'High', 'Low', 'Volume']\n",
    "X = df[features]\n",
    "y = df['target']\n",
    "groups = df['ticker']\n",
    "\n",
    "# Split off 80:20 for train:test\n",
    "splitter = GroupShuffleSplit(n_splits=1, test_size=0.20, random_state=42)\n",
    "train_idx, test_idx = next(splitter.split(X, y, groups=df['ticker']))\n",
    "\n",
    "X_train, X_test = X.iloc[train_idx], X.iloc[test_idx]\n",
    "y_train, y_test = y.iloc[train_idx], y.iloc[test_idx]\n",
    "\n",
    "# Feature scaling\n",
    "scaler = StandardScaler()\n",
    "X_train_scaled = scaler.fit_transform(X_train)\n",
    "X_test_scaled = scaler.transform(X_test)"
   ]
  },
  {
   "cell_type": "markdown",
   "metadata": {},
   "source": [
    "## Hyperparameter Tuning"
   ]
  },
  {
   "cell_type": "code",
   "execution_count": null,
   "metadata": {},
   "outputs": [],
   "source": [
    "clf = xgb.XGBClassifier(\n",
    "    objective='binary:logistic',\n",
    "    booster='gbtree',     \n",
    "    tree_method='hist',\n",
    "    device='cuda',\n",
    "    random_state=42,\n",
    "    eval_metric='auc',\n",
    "    n_jobs=1\n",
    ")"
   ]
  },
  {
   "cell_type": "markdown",
   "metadata": {},
   "source": [
    "### RandomizedSearchCV"
   ]
  },
  {
   "cell_type": "code",
   "execution_count": null,
   "metadata": {},
   "outputs": [],
   "source": [
    "rs_params = {\n",
    "    \"learning_rate\":    [0.01, 0.03, 0.05, 0.1, 0.2, 0.3],\n",
    "    \"max_depth\":        [3, 4, 5, 6, 8, 10, 12],\n",
    "    \"min_child_weight\": [1, 2, 3, 5, 7, 10],\n",
    "    \"gamma\":            [0.0, 0.1, 0.2, 0.3, 0.4, 0.5],\n",
    "    \"subsample\":        [0.6, 0.7, 0.8, 0.9, 1.0],\n",
    "    \"colsample_bytree\": [0.6, 0.7, 0.8, 0.9, 1.0],\n",
    "    \"reg_alpha\":        [0, 0.001, 0.01, 0.1, 1],\n",
    "    \"reg_lambda\":       [0.5, 1, 1.5, 2, 5],\n",
    "}\n",
    "\n",
    "random_search = RandomizedSearchCV(\n",
    "    clf,\n",
    "    param_distributions=rs_params,\n",
    "    n_iter=20,\n",
    "    scoring='roc_auc',\n",
    "    cv=5,\n",
    "    verbose=2\n",
    ")\n",
    "\n",
    "random_search.fit(X_train_scaled, y_train)"
   ]
  },
  {
   "cell_type": "code",
   "execution_count": null,
   "metadata": {},
   "outputs": [],
   "source": [
    "random_search.best_estimator_\n",
    "random_search.best_params_"
   ]
  },
  {
   "cell_type": "markdown",
   "metadata": {},
   "source": [
    "### GridSearchCV"
   ]
  },
  {
   "cell_type": "code",
   "execution_count": null,
   "metadata": {},
   "outputs": [],
   "source": [
    "best_rs_params = random_search.best_params_\n",
    "\n",
    "gs_params = {\n",
    "    \"learning_rate\": [\n",
    "        max(0.01, best_rs_params[\"learning_rate\"] * 0.5),\n",
    "        best_rs_params[\"learning_rate\"],\n",
    "        min(0.3,  best_rs_params[\"learning_rate\"] * 1.5)\n",
    "    ],\n",
    "\n",
    "    \"max_depth\": sorted(list(set([\n",
    "        max(1, best_rs_params[\"max_depth\"] - 1),\n",
    "        best_rs_params[\"max_depth\"],\n",
    "        best_rs_params[\"max_depth\"] + 1\n",
    "    ]))),\n",
    "\n",
    "    \"min_child_weight\": sorted(list(set([\n",
    "        max(1, best_rs_params[\"min_child_weight\"] - 1),\n",
    "        best_rs_params[\"min_child_weight\"],\n",
    "        best_rs_params[\"min_child_weight\"] + 1\n",
    "    ]))),\n",
    "\n",
    "    \"gamma\": [\n",
    "        max(0.0, best_rs_params[\"gamma\"] - 0.1),\n",
    "        best_rs_params[\"gamma\"],\n",
    "        best_rs_params[\"gamma\"] + 0.1\n",
    "    ],\n",
    "\n",
    "    \"subsample\": [\n",
    "        max(0.5, best_rs_params[\"subsample\"] - 0.1),\n",
    "        best_rs_params[\"subsample\"],\n",
    "        min(1.0, best_rs_params[\"subsample\"] + 0.1)\n",
    "    ],\n",
    "    \"colsample_bytree\": [\n",
    "        max(0.5, best_rs_params[\"colsample_bytree\"] - 0.1),\n",
    "        best_rs_params[\"colsample_bytree\"],\n",
    "        min(1.0, best_rs_params[\"colsample_bytree\"] + 0.1)\n",
    "    ],\n",
    "\n",
    "    \"reg_alpha\": [\n",
    "        max(0.0, best_rs_params[\"reg_alpha\"] / 2),\n",
    "        best_rs_params[\"reg_alpha\"],\n",
    "        best_rs_params[\"reg_alpha\"] * 2\n",
    "    ],\n",
    "    \"reg_lambda\": [\n",
    "        max(0.1, best_rs_params[\"reg_lambda\"] / 2),\n",
    "        best_rs_params[\"reg_lambda\"],\n",
    "        best_rs_params[\"reg_lambda\"] * 2\n",
    "    ]\n",
    "}\n",
    "\n",
    "grid_search = GridSearchCV(\n",
    "    clf,\n",
    "    param_grid=gs_params,\n",
    "    scoring='roc_auc', \n",
    "    cv=5,\n",
    "    verbose=2\n",
    ")\n",
    "\n",
    "grid_search.fit(X_train_scaled, y_train)"
   ]
  },
  {
   "cell_type": "code",
   "execution_count": null,
   "metadata": {},
   "outputs": [],
   "source": [
    "grid_search.best_estimator_\n",
    "grid_search.best_params_"
   ]
  },
  {
   "cell_type": "markdown",
   "metadata": {},
   "source": [
    "## Final Fit"
   ]
  },
  {
   "cell_type": "code",
   "execution_count": null,
   "metadata": {},
   "outputs": [],
   "source": [
    "best_model = grid_search.best_estimator_\n",
    "\n",
    "y_pred   = best_model.predict(X_test_scaled)\n",
    "y_proba  = best_model.predict_proba(X_test_scaled)[:, 1]\n",
    "\n",
    "acc      = accuracy_score(y_test, y_pred)\n",
    "f1       = f1_score(y_test, y_pred)\n",
    "roc_auc  = roc_auc_score(y_test, y_proba)\n",
    "cm       = confusion_matrix(y_test, y_pred)\n",
    "\n",
    "print(f\"Accuracy: {acc:.4f}\")\n",
    "print(f\"F1 Score: {f1:.4f}\")\n",
    "print(f\"AUC-ROC Score: {roc_auc:.4f}\")\n",
    "print(\"\\nConfusion Matrix:\")\n",
    "print(pd.DataFrame(cm, \n",
    "                  index=['Actual Down', 'Actual Up'],\n",
    "                  columns=['Predicted Down', 'Predicted Up']))\n",
    "\n",
    "RocCurveDisplay.from_predictions(y_test, y_proba)\n",
    "plt.title(\"ROC Curve\")\n",
    "plt.show()"
   ]
  }
 ],
 "metadata": {
  "kernelspec": {
   "display_name": "cs3244",
   "language": "python",
   "name": "python3"
  },
  "language_info": {
   "codemirror_mode": {
    "name": "ipython",
    "version": 3
   },
   "file_extension": ".py",
   "mimetype": "text/x-python",
   "name": "python",
   "nbconvert_exporter": "python",
   "pygments_lexer": "ipython3",
   "version": "3.12.7"
  }
 },
 "nbformat": 4,
 "nbformat_minor": 2
}
