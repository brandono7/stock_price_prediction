{
 "cells": [
  {
   "cell_type": "code",
   "execution_count": 1,
   "id": "84f15710-dff1-42f7-bc2e-8278d4286243",
   "metadata": {},
   "outputs": [],
   "source": [
    "import pandas as pd\n",
    "import numpy as np\n",
    "import matplotlib.pyplot as plt\n",
    "\n",
    "from sklearn.model_selection import GroupShuffleSplit\n",
    "from sklearn.metrics import confusion_matrix, accuracy_score, f1_score, roc_auc_score\n",
    "from sklearn.preprocessing import StandardScaler\n",
    "\n",
    "import tensorflow as tf\n",
    "from tensorflow.keras.models import Sequential\n",
    "from tensorflow.keras.layers import SimpleRNN, Dense\n",
    "from tensorflow.keras.optimizers import Adam"
   ]
  },
  {
   "cell_type": "code",
   "execution_count": 2,
   "id": "1eb24bac",
   "metadata": {},
   "outputs": [],
   "source": [
    "# Load data\n",
    "df = pd.read_csv(\"filtered_stocks_combined.csv\")\n",
    "df['Date'] = pd.to_datetime(df['Date'])\n",
    "df = df.sort_values(['ticker', 'Date'])\n",
    "\n",
    "# Create target variable (1 if current close > previous close)\n",
    "df['prev_close'] = df.groupby('ticker')['Close'].shift(1)\n",
    "df['target'] = (df['Close'] > df['prev_close']).astype(int)\n",
    "df = df.dropna(subset=['prev_close'])\n",
    "\n",
    "# Features to use\n",
    "features = ['Open', 'High', 'Low', 'Volume']"
   ]
  },
  {
   "cell_type": "code",
   "execution_count": 3,
   "id": "50296215",
   "metadata": {},
   "outputs": [],
   "source": [
    "def create_sequences(data, features, window_size=14):\n",
    "    \"\"\"\n",
    "    data: DataFrame containing columns 'ticker', 'Date', <features>, 'target'\n",
    "    features: list of columns to be used as model features\n",
    "    window_size: number of days to include in each sequence\n",
    "    \n",
    "    Returns:\n",
    "        X: 3D NumPy array of shape (num_samples, window_size, num_features)\n",
    "        y: 1D NumPy array of shape (num_samples,)\n",
    "        groups: a list (or array) storing the group/ticker for each sample\n",
    "    \"\"\"\n",
    "    X, y, groups = [], [], []\n",
    "    \n",
    "    # Group data by ticker\n",
    "    for ticker, group in data.groupby('ticker'):\n",
    "        group = group.sort_values('Date')\n",
    "        \n",
    "        # We only iterate up to len(group) - window_size\n",
    "        for i in range(len(group) - window_size):\n",
    "            seq_features = group.iloc[i : i + window_size][features].values\n",
    "            seq_target = group.iloc[i + window_size]['target']  # target is the label AFTER the 14th day\n",
    "            X.append(seq_features)\n",
    "            y.append(seq_target)\n",
    "            groups.append(ticker)\n",
    "    \n",
    "    return np.array(X), np.array(y), np.array(groups)"
   ]
  },
  {
   "cell_type": "code",
   "execution_count": 4,
   "id": "94a9367e",
   "metadata": {},
   "outputs": [
    {
     "name": "stdout",
     "output_type": "stream",
     "text": [
      "X_all shape: (74950, 10, 4)\n",
      "y_all shape: (74950,)\n",
      "Num tickers in sequences: 50\n"
     ]
    }
   ],
   "source": [
    "window_size = 10\n",
    "X_all, y_all, all_groups = create_sequences(df, features, window_size=window_size)\n",
    "\n",
    "print(\"X_all shape:\", X_all.shape)  # (num_samples, 14, num_features)\n",
    "print(\"y_all shape:\", y_all.shape)  # (num_samples,)\n",
    "print(\"Num tickers in sequences:\", len(np.unique(all_groups)))"
   ]
  },
  {
   "cell_type": "code",
   "execution_count": 5,
   "id": "db8dfc1c",
   "metadata": {},
   "outputs": [],
   "source": [
    "splitter = GroupShuffleSplit(n_splits=1, test_size=0.2, random_state=42)\n",
    "train_idx, test_idx = next(splitter.split(X_all, y_all, groups=all_groups))\n",
    "\n",
    "X_train, X_test = X_all[train_idx], X_all[test_idx]\n",
    "y_train, y_test = y_all[train_idx], y_all[test_idx]"
   ]
  },
  {
   "cell_type": "code",
   "execution_count": 6,
   "id": "4dcff17b",
   "metadata": {},
   "outputs": [],
   "source": [
    "n_train_samples, seq_len, n_features = X_train.shape\n",
    "\n",
    "# Reshape to 2D for fitting\n",
    "X_train_2d = X_train.reshape(-1, n_features)  # shape: (n_train_samples*seq_len, n_features)\n",
    "scaler = StandardScaler()\n",
    "X_train_2d_scaled = scaler.fit_transform(X_train_2d)\n",
    "\n",
    "# Reshape back to 3D\n",
    "X_train_scaled = X_train_2d_scaled.reshape(n_train_samples, seq_len, n_features)\n",
    "\n",
    "# Now do the same for X_test\n",
    "n_test_samples = X_test.shape[0]\n",
    "X_test_2d = X_test.reshape(-1, n_features)\n",
    "X_test_2d_scaled = scaler.transform(X_test_2d)\n",
    "X_test_scaled = X_test_2d_scaled.reshape(n_test_samples, seq_len, n_features)"
   ]
  },
  {
   "cell_type": "code",
   "execution_count": 7,
   "id": "5c18e92b",
   "metadata": {},
   "outputs": [
    {
     "name": "stdout",
     "output_type": "stream",
     "text": [
      "Epoch 1/10\n"
     ]
    },
    {
     "name": "stderr",
     "output_type": "stream",
     "text": [
      "c:\\Users\\djleong01\\AppData\\Local\\Programs\\Python\\Python312\\Lib\\site-packages\\keras\\src\\layers\\rnn\\rnn.py:204: UserWarning: Do not pass an `input_shape`/`input_dim` argument to a layer. When using Sequential models, prefer using an `Input(shape)` object as the first layer in the model instead.\n",
      "  super().__init__(**kwargs)\n"
     ]
    },
    {
     "name": "stdout",
     "output_type": "stream",
     "text": [
      "\u001b[1m1687/1687\u001b[0m \u001b[32m━━━━━━━━━━━━━━━━━━━━\u001b[0m\u001b[37m\u001b[0m \u001b[1m4s\u001b[0m 2ms/step - accuracy: 0.5059 - loss: 0.6967 - val_accuracy: 0.5162 - val_loss: 0.6933\n",
      "Epoch 2/10\n",
      "\u001b[1m1687/1687\u001b[0m \u001b[32m━━━━━━━━━━━━━━━━━━━━\u001b[0m\u001b[37m\u001b[0m \u001b[1m3s\u001b[0m 2ms/step - accuracy: 0.5109 - loss: 0.6937 - val_accuracy: 0.5123 - val_loss: 0.6931\n",
      "Epoch 3/10\n",
      "\u001b[1m1687/1687\u001b[0m \u001b[32m━━━━━━━━━━━━━━━━━━━━\u001b[0m\u001b[37m\u001b[0m \u001b[1m3s\u001b[0m 2ms/step - accuracy: 0.5131 - loss: 0.6932 - val_accuracy: 0.5055 - val_loss: 0.6936\n",
      "Epoch 4/10\n",
      "\u001b[1m1687/1687\u001b[0m \u001b[32m━━━━━━━━━━━━━━━━━━━━\u001b[0m\u001b[37m\u001b[0m \u001b[1m3s\u001b[0m 2ms/step - accuracy: 0.5114 - loss: 0.6933 - val_accuracy: 0.5120 - val_loss: 0.6928\n",
      "Epoch 5/10\n",
      "\u001b[1m1687/1687\u001b[0m \u001b[32m━━━━━━━━━━━━━━━━━━━━\u001b[0m\u001b[37m\u001b[0m \u001b[1m3s\u001b[0m 2ms/step - accuracy: 0.5147 - loss: 0.6931 - val_accuracy: 0.5128 - val_loss: 0.6929\n",
      "Epoch 6/10\n",
      "\u001b[1m1687/1687\u001b[0m \u001b[32m━━━━━━━━━━━━━━━━━━━━\u001b[0m\u001b[37m\u001b[0m \u001b[1m3s\u001b[0m 2ms/step - accuracy: 0.5181 - loss: 0.6928 - val_accuracy: 0.5137 - val_loss: 0.6927\n",
      "Epoch 7/10\n",
      "\u001b[1m1687/1687\u001b[0m \u001b[32m━━━━━━━━━━━━━━━━━━━━\u001b[0m\u001b[37m\u001b[0m \u001b[1m3s\u001b[0m 2ms/step - accuracy: 0.5146 - loss: 0.6931 - val_accuracy: 0.5130 - val_loss: 0.6933\n",
      "Epoch 8/10\n",
      "\u001b[1m1687/1687\u001b[0m \u001b[32m━━━━━━━━━━━━━━━━━━━━\u001b[0m\u001b[37m\u001b[0m \u001b[1m3s\u001b[0m 2ms/step - accuracy: 0.5179 - loss: 0.6929 - val_accuracy: 0.5138 - val_loss: 0.6924\n",
      "Epoch 9/10\n",
      "\u001b[1m1687/1687\u001b[0m \u001b[32m━━━━━━━━━━━━━━━━━━━━\u001b[0m\u001b[37m\u001b[0m \u001b[1m3s\u001b[0m 2ms/step - accuracy: 0.5161 - loss: 0.6930 - val_accuracy: 0.5127 - val_loss: 0.6926\n",
      "Epoch 10/10\n",
      "\u001b[1m1687/1687\u001b[0m \u001b[32m━━━━━━━━━━━━━━━━━━━━\u001b[0m\u001b[37m\u001b[0m \u001b[1m3s\u001b[0m 2ms/step - accuracy: 0.5164 - loss: 0.6928 - val_accuracy: 0.5122 - val_loss: 0.6926\n"
     ]
    }
   ],
   "source": [
    "model = Sequential()\n",
    "model.add(SimpleRNN(32, input_shape=(window_size, n_features), return_sequences=False))\n",
    "model.add(Dense(1, activation='sigmoid'))\n",
    "\n",
    "model.compile(\n",
    "    loss='binary_crossentropy',\n",
    "    optimizer=Adam(learning_rate=0.001),\n",
    "    metrics=['accuracy']\n",
    ")\n",
    "\n",
    "history = model.fit(\n",
    "    X_train_scaled, y_train,\n",
    "    validation_split=0.1,\n",
    "    epochs=10,\n",
    "    batch_size=32,\n",
    "    verbose=1\n",
    ")"
   ]
  },
  {
   "cell_type": "code",
   "execution_count": 8,
   "id": "7af1dbaf",
   "metadata": {},
   "outputs": [
    {
     "name": "stdout",
     "output_type": "stream",
     "text": [
      "\u001b[1m469/469\u001b[0m \u001b[32m━━━━━━━━━━━━━━━━━━━━\u001b[0m\u001b[37m\u001b[0m \u001b[1m1s\u001b[0m 2ms/step\n",
      "Accuracy: 0.5121\n",
      "F1 Score: 0.6648\n",
      "AUC-ROC: 0.5082\n",
      "\n",
      "Confusion Matrix:\n",
      "             Predicted Down  Predicted Up\n",
      "Actual Down             426          6857\n",
      "Actual Up               456          7251\n"
     ]
    }
   ],
   "source": [
    "# Predict probabilities\n",
    "y_proba = model.predict(X_test_scaled).ravel()  # shape: (n_test_samples,)\n",
    "y_pred = (y_proba >= 0.5).astype(int)\n",
    "\n",
    "# Compute metrics\n",
    "accuracy = accuracy_score(y_test, y_pred)\n",
    "f1 = f1_score(y_test, y_pred)\n",
    "auc = roc_auc_score(y_test, y_proba)\n",
    "cm = confusion_matrix(y_test, y_pred)\n",
    "\n",
    "print(f\"Accuracy: {accuracy:.4f}\")\n",
    "print(f\"F1 Score: {f1:.4f}\")\n",
    "print(f\"AUC-ROC: {auc:.4f}\\n\")\n",
    "\n",
    "print(\"Confusion Matrix:\")\n",
    "print(pd.DataFrame(cm,\n",
    "                   index=['Actual Down', 'Actual Up'],\n",
    "                   columns=['Predicted Down', 'Predicted Up']))"
   ]
  },
  {
   "cell_type": "code",
   "execution_count": 9,
   "id": "140b26b2",
   "metadata": {},
   "outputs": [],
   "source": [
    "# # Load and prepare data\n",
    "# df = pd.read_csv(\"filtered_stocks_combined.csv\")\n",
    "# df['Date'] = pd.to_datetime(df['Date'])\n",
    "# df = df.sort_values(['ticker', 'Date'])\n",
    "\n",
    "# # Create target variable (1 if current close > previous close)\n",
    "# df['prev_close'] = df.groupby('ticker')['Close'].shift(1)\n",
    "# df['target'] = (df['Close'] > df['prev_close']).astype(int)\n",
    "# df = df.dropna(subset=['prev_close'])\n",
    "\n",
    "# # Feature engineering\n",
    "# features = ['Open', 'High', 'Low', 'Volume']\n",
    "# X = df[features]\n",
    "# y = df['target']\n",
    "\n",
    "# # Time-aware split preserving ticker groups\n",
    "# splitter = GroupShuffleSplit(test_size=0.2, random_state=42)\n",
    "# train_idx, test_idx = next(splitter.split(X, y, groups=df['ticker']))\n",
    "\n",
    "# X_train, X_test = X.iloc[train_idx], X.iloc[test_idx]\n",
    "# y_train, y_test = y.iloc[train_idx], y.iloc[test_idx]\n",
    "\n",
    "# # Feature scaling\n",
    "# scaler = StandardScaler()\n",
    "# X_train_scaled = scaler.fit_transform(X_train)\n",
    "# X_test_scaled = scaler.transform(X_test)"
   ]
  }
 ],
 "metadata": {
  "kernelspec": {
   "display_name": "Python 3",
   "language": "python",
   "name": "python3"
  },
  "language_info": {
   "codemirror_mode": {
    "name": "ipython",
    "version": 3
   },
   "file_extension": ".py",
   "mimetype": "text/x-python",
   "name": "python",
   "nbconvert_exporter": "python",
   "pygments_lexer": "ipython3",
   "version": "3.12.2"
  }
 },
 "nbformat": 4,
 "nbformat_minor": 5
}
